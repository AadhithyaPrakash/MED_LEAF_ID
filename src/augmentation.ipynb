{
 "cells": [
  {
   "cell_type": "code",
   "execution_count": 1,
   "metadata": {},
   "outputs": [],
   "source": [
    "import os\n",
    "from tensorflow.keras.preprocessing.image import ImageDataGenerator, load_img, img_to_array\n",
    "import shutil"
   ]
  },
  {
   "cell_type": "code",
   "execution_count": 2,
   "metadata": {},
   "outputs": [],
   "source": [
    "underrepresented_classes = [\n",
    "    'Pepper', 'Lemongrass', 'Turmeric', 'Raddish', 'Sapota',\n",
    "    'Pea', 'Seethaashoka', 'Kasambruga', 'Jasmine', 'Malabar_Nut',\n",
    "    'Drumstick', 'Kambajala', 'Balloon_Vine', 'Sampige', 'Tomato',\n",
    "    'Nerale', 'Ganike', 'Parijatha', 'camphor', 'kamakasturi',\n",
    "    'Common rue(naagdalli)', 'Amla', 'Spinach1', 'Chakte', 'Chilly',\n",
    "    'Taro', 'Tecoma', 'Nooni', 'Bringaraja', 'Kohlrabi', 'Padri',\n",
    "    'Thumbe', 'Ganigale', 'Pomoegranate', 'Badipala', 'Caricature',\n",
    "    'Lantana', 'kepala', 'Gasagase', 'Malabar_Spinach', 'Eucalyptus',\n",
    "    'Henna', 'Globe Amarnath', 'ashoka', 'Ekka', 'Astma_weed', 'Ginger', 'Coffee'\n",
    "]\n"
   ]
  },
  {
   "cell_type": "code",
   "execution_count": 3,
   "metadata": {},
   "outputs": [],
   "source": [
    "source_directory = 'D:\\MED_LEAF_ID\\\\dataset\\Medicinal Leaf dataset'"
   ]
  },
  {
   "cell_type": "code",
   "execution_count": 4,
   "metadata": {},
   "outputs": [],
   "source": [
    "augmented_directory=\"D:\\MED_LEAF_ID\\data\\\\augmented\""
   ]
  },
  {
   "cell_type": "code",
   "execution_count": 5,
   "metadata": {},
   "outputs": [],
   "source": [
    "os.makedirs(augmented_directory, exist_ok=True)\n"
   ]
  },
  {
   "cell_type": "code",
   "execution_count": 6,
   "metadata": {},
   "outputs": [],
   "source": [
    "datagen = ImageDataGenerator(\n",
    "    rotation_range=40,       \n",
    "    width_shift_range=0.2,   \n",
    "    height_shift_range=0.2,   \n",
    "    shear_range=0.2,          \n",
    "    zoom_range=0.2,           \n",
    "    horizontal_flip=True,     \n",
    "    fill_mode='nearest'       \n",
    ")\n"
   ]
  },
  {
   "cell_type": "code",
   "execution_count": null,
   "metadata": {},
   "outputs": [],
   "source": [
    "for plant_name in underrepresented_classes:\n",
    "    class_folder = os.path.join(source_directory, plant_name)\n",
    "    augmented_class_folder = os.path.join(augmented_directory, plant_name)\n",
    "    \n",
    "    os.makedirs(augmented_class_folder, exist_ok=True)\n",
    "    \n",
    "    for img_name in os.listdir(class_folder):\n",
    "        img_path = os.path.join(class_folder, img_name)\n",
    "        if img_name.endswith(('.jpg', '.png', '.jpeg')):\n",
    "            img = load_img(img_path)  \n",
    "            img_array = img_to_array(img) \n",
    "            img_array = img_array.reshape((1,) + img_array.shape)  \n",
    "\n",
    "            \n",
    "            i = 0\n",
    "            for batch in datagen.flow(img_array, batch_size=1, save_to_dir=augmented_class_folder,\n",
    "                                      save_prefix=\"aug_\", save_format=\"png\"):\n",
    "                i += 1\n",
    "                if i >= 10:  \n",
    "                    break"
   ]
  }
 ],
 "metadata": {
  "kernelspec": {
   "display_name": "base",
   "language": "python",
   "name": "python3"
  },
  "language_info": {
   "codemirror_mode": {
    "name": "ipython",
    "version": 3
   },
   "file_extension": ".py",
   "mimetype": "text/x-python",
   "name": "python",
   "nbconvert_exporter": "python",
   "pygments_lexer": "ipython3",
   "version": "3.11.8"
  }
 },
 "nbformat": 4,
 "nbformat_minor": 2
}
