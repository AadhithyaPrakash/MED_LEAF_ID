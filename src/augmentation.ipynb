{
 "cells": [
  {
   "cell_type": "code",
   "execution_count": 1,
   "metadata": {},
   "outputs": [],
   "source": [
    "import os\n",
    "import torch\n",
    "import torchvision.transforms as transforms\n",
    "from torchvision.io import read_image\n",
    "from torch.utils.data import DataLoader, Dataset\n",
    "from torchvision.utils import save_image"
   ]
  },
  {
   "cell_type": "code",
   "execution_count": null,
   "metadata": {},
   "outputs": [],
   "source": [
    "class CustomImageDataset(Dataset):\n",
    "    def __init__(self, image_paths, transform=None):\n",
    "        self.image_paths = image_paths\n",
    "        self.transform = transform\n",
    "\n",
    "    def __len__(self):\n",
    "        return len(self.image_paths)\n",
    "\n",
    "    def __getitem__(self, idx):\n",
    "        img_path = self.image_paths[idx]\n",
    "        image = read_image(img_path).float() / 255.0 \n",
    "        if self.transform:\n",
    "            image = self.transform(image)\n",
    "        return image, img_path\n"
   ]
  },
  {
   "cell_type": "code",
   "execution_count": null,
   "metadata": {},
   "outputs": [],
   "source": [
    "source_directory = \"D:\\MED_LEAF_ID-1\\dataset\\Medicinal Leaf dataset\"\n",
    "augmented_directory = \"D:/MED_LEAF_ID/data/augmented\"\n",
    "os.makedirs(augmented_directory, exist_ok=True)"
   ]
  },
  {
   "cell_type": "code",
   "execution_count": 18,
   "metadata": {},
   "outputs": [],
   "source": [
    "transform = transforms.Compose([\n",
    "    transforms.RandomRotation(40),\n",
    "    transforms.RandomResizedCrop(224, scale=(0.8, 1.0)),\n",
    "    transforms.RandomHorizontalFlip(),\n",
    "    transforms.RandomVerticalFlip(),\n",
    "    transforms.ColorJitter(brightness=0.2, contrast=0.2, saturation=0.2, hue=0.1),\n",
    "    transforms.GaussianBlur(kernel_size=(3, 3)),])"
   ]
  },
  {
   "cell_type": "code",
   "execution_count": 19,
   "metadata": {},
   "outputs": [
    {
     "name": "stdout",
     "output_type": "stream",
     "text": [
      "Device: cuda\n"
     ]
    }
   ],
   "source": [
    "TARGET_AUGMENTED_COUNT = 500 \n",
    "device = torch.device(\"cuda\" if torch.cuda.is_available() else \"cpu\")\n",
    "print(f\"Device: {device}\")"
   ]
  },
  {
   "cell_type": "code",
   "execution_count": null,
   "metadata": {},
   "outputs": [
    {
     "name": "stdout",
     "output_type": "stream",
     "text": [
      "Torch Version: 2.5.1+cu121\n",
      "CUDA Available: True\n",
      "GPU Name: NVIDIA GeForce RTX 3050 Laptop GPU\n",
      "Current Device: 0\n",
      "CUDA Memory Allocated: 772.126953125 MB\n",
      "CUDA Memory Reserved: 786.0 MB\n"
     ]
    }
   ],
   "source": [
    "print(\"Torch Version:\", torch.__version__)\n",
    "print(\"CUDA Available:\", torch.cuda.is_available())\n",
    "print(\"GPU Name:\", torch.cuda.get_device_name(0))\n",
    "print(\"Current Device:\", torch.cuda.current_device())\n",
    "print(\"CUDA Memory Allocated:\", torch.cuda.memory_allocated(0) / 1024**2, \"MB\")\n",
    "print(\"CUDA Memory Reserved:\", torch.cuda.memory_reserved(0) / 1024**2, \"MB\")\n"
   ]
  },
  {
   "cell_type": "code",
   "execution_count": null,
   "metadata": {},
   "outputs": [
    {
     "name": "stdout",
     "output_type": "stream",
     "text": [
      "Output Device: cuda:0\n"
     ]
    }
   ],
   "source": [
    "device = torch.device(\"cuda\" if torch.cuda.is_available() else \"cpu\")\n",
    "model = torch.nn.Linear(10, 2).to(device)\n",
    "x = torch.randn(10).to(device)\n",
    "output = model(x)\n",
    "\n",
    "print(\"Output Device:\", output.device)  "
   ]
  },
  {
   "cell_type": "code",
   "execution_count": null,
   "metadata": {},
   "outputs": [
    {
     "name": "stdout",
     "output_type": "stream",
     "text": [
      "Using device: cuda\n",
      "Matrix multiplication time on GPU: 0.454070 seconds\n"
     ]
    }
   ],
   "source": [
    "import time\n",
    "device = torch.device(\"cuda\" if torch.cuda.is_available() else \"cpu\")\n",
    "print(f\"Using device: {device}\")\n",
    "\n",
    "tensor_size = (10000, 10000)\n",
    "t = torch.randn(tensor_size, device=device)\n",
    "start = time.time()\n",
    "t.matmul(t)\n",
    "torch.cuda.synchronize()  \n",
    "end = time.time()\n",
    "print(f\"Matrix multiplication time on GPU: {end - start:.6f} seconds\")"
   ]
  },
  {
   "cell_type": "code",
   "execution_count": null,
   "metadata": {},
   "outputs": [
    {
     "name": "stdout",
     "output_type": "stream",
     "text": [
      "PyTorch Version: 2.5.1+cu121\n",
      "CUDA Available: True\n",
      "Device Name: NVIDIA GeForce RTX 3050 Laptop GPU\n",
      "Current Device: 0\n",
      "Tensor allocated successfully on: cuda:0\n"
     ]
    }
   ],
   "source": [
    "import torch\n",
    "\n",
    "print(\"PyTorch Version:\", torch.__version__)\n",
    "print(\"CUDA Available:\", torch.cuda.is_available())\n",
    "print(\"Device Name:\", torch.cuda.get_device_name(0))\n",
    "print(\"Current Device:\", torch.cuda.current_device())\n",
    "\n",
    "tensor = torch.randn(10000, 10000, device=\"cuda\") \n",
    "print(\"Tensor allocated successfully on:\", tensor.device)\n"
   ]
  },
  {
   "cell_type": "code",
   "execution_count": 24,
   "metadata": {},
   "outputs": [],
   "source": [
    "torch.backends.cudnn.benchmark = True\n"
   ]
  },
  {
   "cell_type": "code",
   "execution_count": null,
   "metadata": {},
   "outputs": [],
   "source": [
    "for plant_name in os.listdir(source_directory):\n",
    "    class_folder = os.path.join(source_directory, plant_name)\n",
    "    augmented_class_folder = os.path.join(augmented_directory, plant_name)\n",
    "    os.makedirs(augmented_class_folder, exist_ok=True)\n",
    "\n",
    "    existing_augmented_count = len([f for f in os.listdir(augmented_class_folder) if f.startswith(\"aug_\")])\n",
    "    if existing_augmented_count >= TARGET_AUGMENTED_COUNT:\n",
    "        print(f\"Skipping {plant_name}, already has {existing_augmented_count} augmented images.\")\n",
    "        continue\n",
    "\n",
    "    print(f\"Processing {plant_name}: {existing_augmented_count}/{TARGET_AUGMENTED_COUNT} augmented images present.\")\n",
    "    images_needed = TARGET_AUGMENTED_COUNT - existing_augmented_count\n",
    "\n",
    "    image_paths = [os.path.join(class_folder, img) for img in os.listdir(class_folder) if img.endswith(('.jpg', '.png', '.jpeg'))]\n",
    "    dataset = CustomImageDataset(image_paths, transform=transform)  \n",
    "\n",
    "    i = existing_augmented_count \n",
    "    for img_tensor, img_path in dataloader:\n",
    "        img_tensor = img_tensor.to(device)  \n",
    "        augmented_img = transform(img_tensor)  \n",
    "\n",
    "        save_image(augmented_img.cpu(), os.path.join(augmented_class_folder, f\"aug_{i}.png\")) \n",
    "        i += 1\n",
    "        if i >= TARGET_AUGMENTED_COUNT:\n",
    "            break\n",
    "\n",
    "print(\"Augmentation completed\")"
   ]
  },
  {
   "cell_type": "code",
   "execution_count": null,
   "metadata": {},
   "outputs": [],
   "source": []
  }
 ],
 "metadata": {
  "kernelspec": {
   "display_name": "base",
   "language": "python",
   "name": "python3"
  },
  "language_info": {
   "codemirror_mode": {
    "name": "ipython",
    "version": 3
   },
   "file_extension": ".py",
   "mimetype": "text/x-python",
   "name": "python",
   "nbconvert_exporter": "python",
   "pygments_lexer": "ipython3",
   "version": "3.11.8"
  }
 },
 "nbformat": 4,
 "nbformat_minor": 2
}
