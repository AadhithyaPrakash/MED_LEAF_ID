{
 "cells": [
  {
   "cell_type": "code",
   "execution_count": 1,
   "metadata": {},
   "outputs": [],
   "source": [
    "import os\n",
    "from tensorflow.keras.preprocessing.image import ImageDataGenerator, load_img, img_to_array\n",
    "import shutil"
   ]
  },
  {
   "cell_type": "code",
   "execution_count": 40,
   "metadata": {},
   "outputs": [],
   "source": [
    "underrepresented_classes = ['Lemongrass','Turmeric', 'Raddish', 'Seethaashoka', 'Pea', \n",
    "                            'Kasambruga', 'Malabar_Nut', 'Drumstick', 'Kambajala', 'Balloon_Vine']"
   ]
  },
  {
   "cell_type": "code",
   "execution_count": 41,
   "metadata": {},
   "outputs": [],
   "source": [
    "source_directory = 'D:\\MED_LEAF_ID\\data\\dataset\\Medicinal Leaf dataset'"
   ]
  },
  {
   "cell_type": "code",
   "execution_count": 42,
   "metadata": {},
   "outputs": [],
   "source": [
    "augmented_directory=\"D:\\MED_LEAF_ID\\data\\\\augmented\""
   ]
  },
  {
   "cell_type": "code",
   "execution_count": 43,
   "metadata": {},
   "outputs": [],
   "source": [
    "os.makedirs(augmented_directory, exist_ok=True)\n"
   ]
  },
  {
   "cell_type": "code",
   "execution_count": 44,
   "metadata": {},
   "outputs": [],
   "source": [
    "datagen = ImageDataGenerator(\n",
    "    rotation_range=40,        # Random rotations\n",
    "    width_shift_range=0.2,    # Random horizontal shifts\n",
    "    height_shift_range=0.2,   # Random vertical shifts\n",
    "    shear_range=0.2,          # Shear transformations\n",
    "    zoom_range=0.2,           # Random zoom\n",
    "    horizontal_flip=True,     # Random horizontal flip\n",
    "    fill_mode='nearest'       # Fill any empty pixels created by transformations\n",
    ")\n"
   ]
  },
  {
   "cell_type": "code",
   "execution_count": 45,
   "metadata": {},
   "outputs": [],
   "source": [
    "for plant_name in underrepresented_classes:\n",
    "    class_folder = os.path.join(source_directory, plant_name)\n",
    "    augmented_class_folder = os.path.join(augmented_directory, plant_name)\n",
    "    \n",
    "    # Create the folder for augmented images if it doesn't exist\n",
    "    os.makedirs(augmented_class_folder, exist_ok=True)\n",
    "    \n",
    "    # Loop through all images in the class folder and apply augmentation\n",
    "    for img_name in os.listdir(class_folder):\n",
    "        img_path = os.path.join(class_folder, img_name)\n",
    "        \n",
    "        # Only process image files (skip non-image files)\n",
    "        if img_name.endswith(('.jpg', '.png', '.jpeg')):\n",
    "            img = load_img(img_path)  # Load the image\n",
    "            img_array = img_to_array(img)  # Convert image to array\n",
    "            img_array = img_array.reshape((1,) + img_array.shape)  # Reshape for the generator\n",
    "\n",
    "            # Generate and save augmented images to the corresponding class folder\n",
    "            i = 0\n",
    "            for batch in datagen.flow(img_array, batch_size=1, save_to_dir=augmented_class_folder,\n",
    "                                      save_prefix=\"aug_\", save_format=\"png\"):\n",
    "                i += 1\n",
    "                if i >= 10:  # Limit to 10 augmented images per original image\n",
    "                    break"
   ]
  }
 ],
 "metadata": {
  "kernelspec": {
   "display_name": ".venv",
   "language": "python",
   "name": "python3"
  },
  "language_info": {
   "codemirror_mode": {
    "name": "ipython",
    "version": 3
   },
   "file_extension": ".py",
   "mimetype": "text/x-python",
   "name": "python",
   "nbconvert_exporter": "python",
   "pygments_lexer": "ipython3",
   "version": "3.11.6"
  }
 },
 "nbformat": 4,
 "nbformat_minor": 2
}
