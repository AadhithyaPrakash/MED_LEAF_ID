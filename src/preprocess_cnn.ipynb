{
 "cells": [
  {
   "cell_type": "code",
   "execution_count": 1,
   "metadata": {},
   "outputs": [],
   "source": [
    "import os\n",
    "import cv2\n",
    "import numpy as np\n"
   ]
  },
  {
   "cell_type": "code",
   "execution_count": 10,
   "metadata": {},
   "outputs": [],
   "source": [
    "original_dataset_path = r\"D:\\MED_LEAF_ID\\dataset\\Medicinal Leaf dataset\"\n",
    "augmented_dataset_path = r\"D:\\MED_LEAF_ID\\data\\augmented\"\n",
    "preprocessed_original_path = r\"D:\\MED_LEAF_ID\\data\\cnn\\original\"\n",
    "preprocessed_augmented_path = r\"D:\\MED_LEAF_ID\\data\\cnn\\augmented\""
   ]
  },
  {
   "cell_type": "code",
   "execution_count": 11,
   "metadata": {},
   "outputs": [],
   "source": [
    "def create_directory_structure(dataset_path, preprocessed_path):\n",
    "    os.makedirs(preprocessed_path, exist_ok=True)\n",
    "    for class_folder in os.listdir(dataset_path):\n",
    "        class_path = os.path.join(dataset_path, class_folder)\n",
    "        if os.path.isdir(class_path):\n",
    "            os.makedirs(os.path.join(preprocessed_path, class_folder), exist_ok=True)\n"
   ]
  },
  {
   "cell_type": "code",
   "execution_count": 12,
   "metadata": {},
   "outputs": [],
   "source": [
    "def histogram_equalization(image):\n",
    "    if len(image.shape) == 3:  # Color Image\n",
    "        ycrcb = cv2.cvtColor(image, cv2.COLOR_BGR2YCrCb)\n",
    "        ycrcb[:, :, 0] = cv2.equalizeHist(ycrcb[:, :, 0])  # Equalize Luminance\n",
    "        return cv2.cvtColor(ycrcb, cv2.COLOR_YCrCb2BGR)\n",
    "    else:  # Grayscale Image\n",
    "        return cv2.equalizeHist(image)"
   ]
  },
  {
   "cell_type": "code",
   "execution_count": 13,
   "metadata": {},
   "outputs": [],
   "source": [
    "def global_contrast_normalization(image, scale=1.0, epsilon=1e-8):\n",
    "    mean = np.mean(image)\n",
    "    std = np.std(image)\n",
    "    return scale * (image - mean) / max(std, epsilon)\n"
   ]
  },
  {
   "cell_type": "code",
   "execution_count": 14,
   "metadata": {},
   "outputs": [],
   "source": [
    "def local_normalization(image, ksize=7):\n",
    "    blurred = cv2.GaussianBlur(image, (ksize, ksize), 0)\n",
    "    return cv2.subtract(image, blurred)"
   ]
  },
  {
   "cell_type": "code",
   "execution_count": 15,
   "metadata": {},
   "outputs": [],
   "source": [
    "def preprocess_image_for_cnn(image_path):\n",
    "    image = cv2.imread(image_path)\n",
    "    if image is None:\n",
    "        print(f\"Error loading image: {image_path}\")\n",
    "        return None\n",
    "    \n",
    "    # Resize to 224x224\n",
    "    resized_image = cv2.resize(image, (224, 224))\n",
    "\n",
    "    # Apply Histogram Equalization\n",
    "    enhanced_image = histogram_equalization(resized_image)\n",
    "\n",
    "    # Apply Global Contrast Normalization\n",
    "    gcn_image = global_contrast_normalization(enhanced_image)\n",
    "\n",
    "    # Apply Local Normalization\n",
    "    normalized_image = local_normalization(gcn_image)\n",
    "\n",
    "    # Convert to Float32 and Normalize to [0,1]\n",
    "    normalized_image = normalized_image.astype('float32') / 255.0\n",
    "\n",
    "    return normalized_image\n"
   ]
  },
  {
   "cell_type": "code",
   "execution_count": 16,
   "metadata": {},
   "outputs": [],
   "source": [
    "def preprocess_and_save_images(dataset_path, preprocessed_path):\n",
    "    for class_folder in os.listdir(dataset_path):\n",
    "        class_path = os.path.join(dataset_path, class_folder)\n",
    "        if os.path.isdir(class_path):\n",
    "            save_path = os.path.join(preprocessed_path, class_folder)\n",
    "            for image_file in os.listdir(class_path):\n",
    "                image_path = os.path.join(class_path, image_file)\n",
    "                processed_image = preprocess_image_for_cnn(image_path)\n",
    "                if processed_image is not None:\n",
    "                    cv2.imwrite(os.path.join(save_path, image_file), (processed_image * 255).astype(np.uint8))\n",
    "                else:\n",
    "                    print(f\"Skipping image: {image_file}\")\n"
   ]
  },
  {
   "cell_type": "code",
   "execution_count": 17,
   "metadata": {},
   "outputs": [
    {
     "name": "stdout",
     "output_type": "stream",
     "text": [
      "Preprocessing complete with Contrast Normalization & Edge Enhancement!\n"
     ]
    }
   ],
   "source": [
    "if __name__ == \"__main__\":\n",
    "    create_directory_structure(original_dataset_path, preprocessed_original_path)\n",
    "    create_directory_structure(augmented_dataset_path, preprocessed_augmented_path)\n",
    "    preprocess_and_save_images(original_dataset_path, preprocessed_original_path)\n",
    "    preprocess_and_save_images(augmented_dataset_path, preprocessed_augmented_path)\n",
    "    \n",
    "    print(\"Preprocessing complete with Contrast Normalization & Edge Enhancement!\")"
   ]
  }
 ],
 "metadata": {
  "kernelspec": {
   "display_name": "base",
   "language": "python",
   "name": "python3"
  },
  "language_info": {
   "codemirror_mode": {
    "name": "ipython",
    "version": 3
   },
   "file_extension": ".py",
   "mimetype": "text/x-python",
   "name": "python",
   "nbconvert_exporter": "python",
   "pygments_lexer": "ipython3",
   "version": "3.11.8"
  }
 },
 "nbformat": 4,
 "nbformat_minor": 2
}
