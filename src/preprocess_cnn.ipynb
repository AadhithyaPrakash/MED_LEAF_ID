{
 "cells": [
  {
   "cell_type": "code",
   "execution_count": 62,
   "metadata": {},
   "outputs": [],
   "source": [
    "\n",
    "import os\n",
    "import cv2\n",
    "import numpy as np\n",
    "from rembg import remove"
   ]
  },
  {
   "cell_type": "code",
   "execution_count": 63,
   "metadata": {},
   "outputs": [],
   "source": [
    "original_dataset_path = r\"D:\\MED_LEAF_ID-1\\dataset\\Medicinal Leaf dataset\"\n",
    "augmented_dataset_path = r\"D:\\MED_LEAF_ID-1\\data\\augmented\"\n",
    "preprocessed_original_path = r\"D:\\MED_LEAF_ID-1\\data\\cnn\\original\"\n",
    "preprocessed_augmented_path = r\"D:\\MED_LEAF_ID-1\\data\\cnn\\augmented\""
   ]
  },
  {
   "cell_type": "code",
   "execution_count": 64,
   "metadata": {},
   "outputs": [],
   "source": [
    "def create_directory_structure(dataset_path, preprocessed_path):\n",
    "    \"\"\"Creates necessary directories for preprocessed images.\"\"\"\n",
    "    os.makedirs(preprocessed_path, exist_ok=True)\n",
    "    for class_folder in os.listdir(dataset_path):\n",
    "        class_path = os.path.join(dataset_path, class_folder)\n",
    "        if os.path.isdir(class_path):\n",
    "            os.makedirs(os.path.join(preprocessed_path, class_folder), exist_ok=True)"
   ]
  },
  {
   "cell_type": "code",
   "execution_count": 65,
   "metadata": {},
   "outputs": [],
   "source": [
    "def preprocess_image_for_cnn(image_path, target_size=(224, 224)):\n",
    "    \"\"\"\n",
    "    Advanced image preprocessing for CNN input with multiple enhancement techniques.\n",
    "    \n",
    "    Args:\n",
    "        image_path (str): Path to the input image\n",
    "        target_size (tuple): Desired output image size (default 224x224)\n",
    "    \n",
    "    Returns:\n",
    "        numpy.ndarray: Preprocessed image ready for CNN input\n",
    "    \"\"\"\n",
    "    # Read image\n",
    "    image = cv2.imread(image_path)\n",
    "    if image is None:\n",
    "        print(f\"Error loading image: {image_path}\")\n",
    "        return None\n",
    "    \n",
    "    # Convert to RGB for background removal\n",
    "    rgb_image = cv2.cvtColor(image, cv2.COLOR_BGR2RGB)\n",
    "    \n",
    "    # Remove background\n",
    "    output_image = remove(rgb_image)\n",
    "    output_np = cv2.cvtColor(output_image, cv2.COLOR_RGB2BGR)\n",
    "    \n",
    "    # Contrast Enhancement\n",
    "    clahe = cv2.createCLAHE(clipLimit=2.0, tileGridSize=(8,8))\n",
    "    lab = cv2.cvtColor(output_np, cv2.COLOR_BGR2LAB)\n",
    "    l, a, b = cv2.split(lab)\n",
    "    \n",
    "    # Apply CLAHE to L-channel\n",
    "    l_clahe = clahe.apply(l)\n",
    "    \n",
    "    # Merge the CLAHE enhanced L-channel with the a and b channel\n",
    "    enhanced_lab = cv2.merge((l_clahe, a, b))\n",
    "    enhanced_image = cv2.cvtColor(enhanced_lab, cv2.COLOR_LAB2BGR)\n",
    "    \n",
    "    # Sharpening using unsharp masking\n",
    "    gaussian_3 = cv2.GaussianBlur(enhanced_image, (0, 0), 2.0)\n",
    "    sharpened_image = cv2.addWeighted(enhanced_image, 1.5, gaussian_3, -0.5, 0)\n",
    "    \n",
    "    # Resize with interpolation\n",
    "    resized_image = cv2.resize(sharpened_image, target_size, interpolation=cv2.INTER_LANCZOS4)\n",
    "    \n",
    "    # Create a binary mask for background removal\n",
    "    gray_image = cv2.cvtColor(resized_image, cv2.COLOR_BGR2GRAY)\n",
    "    _, mask = cv2.threshold(gray_image, 0, 255, cv2.THRESH_BINARY + cv2.THRESH_OTSU)\n",
    "    \n",
    "    # Morphological operations to refine mask\n",
    "    kernel = np.ones((5, 5), np.uint8)\n",
    "    mask = cv2.morphologyEx(mask, cv2.MORPH_CLOSE, kernel)\n",
    "    mask = cv2.morphologyEx(mask, cv2.MORPH_OPEN, kernel)\n",
    "    \n",
    "    # Set background to white\n",
    "    resized_image[mask == 0] = (255, 255, 255)\n",
    "    \n",
    "    # Noise Reduction\n",
    "    denoised_image = cv2.fastNlMeansDenoisingColored(resized_image, None, 10, 10, 7, 21)\n",
    "    \n",
    "    # Final normalization\n",
    "    normalized_image = denoised_image.astype('float32') / 255.0\n",
    "    \n",
    "    return normalized_image\n"
   ]
  },
  {
   "cell_type": "code",
   "execution_count": 66,
   "metadata": {},
   "outputs": [],
   "source": [
    "def preprocess_and_save_images(dataset_path, preprocessed_path):\n",
    "    \"\"\"Processes and saves images with minimal transformations.\"\"\"\n",
    "    for class_folder in os.listdir(dataset_path):\n",
    "        class_path = os.path.join(dataset_path, class_folder)\n",
    "        if os.path.isdir(class_path):\n",
    "            save_path = os.path.join(preprocessed_path, class_folder)\n",
    "            for image_file in os.listdir(class_path):\n",
    "                image_path = os.path.join(class_path, image_file)\n",
    "                processed_image = preprocess_image_for_cnn(image_path)\n",
    "                if processed_image is not None:\n",
    "                    # Convert back to uint8 (0-255) before saving\n",
    "                    cv2.imwrite(os.path.join(save_path, image_file), (processed_image * 255).astype(np.uint8))\n",
    "                else:\n",
    "                    print(f\"Skipping image: {image_file}\")"
   ]
  },
  {
   "cell_type": "code",
   "execution_count": null,
   "metadata": {},
   "outputs": [],
   "source": [
    "if __name__ == \"__main__\":\n",
    "    create_directory_structure(original_dataset_path, preprocessed_original_path)\n",
    "    create_directory_structure(augmented_dataset_path, preprocessed_augmented_path)\n",
    "\n",
    "    preprocess_and_save_images(original_dataset_path, preprocessed_original_path)\n",
    "    preprocess_and_save_images(augmented_dataset_path, preprocessed_augmented_path)\n",
    "    \n",
    "    print(\"Preprocessing complete with minimal tuning!\")"
   ]
  }
 ],
 "metadata": {
  "kernelspec": {
   "display_name": "base",
   "language": "python",
   "name": "python3"
  },
  "language_info": {
   "codemirror_mode": {
    "name": "ipython",
    "version": 3
   },
   "file_extension": ".py",
   "mimetype": "text/x-python",
   "name": "python",
   "nbconvert_exporter": "python",
   "pygments_lexer": "ipython3",
   "version": "3.11.8"
  }
 },
 "nbformat": 4,
 "nbformat_minor": 2
}
