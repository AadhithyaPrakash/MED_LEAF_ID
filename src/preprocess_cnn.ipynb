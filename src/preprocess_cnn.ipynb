{
 "cells": [
  {
   "cell_type": "code",
   "execution_count": null,
   "metadata": {
    "vscode": {
     "languageId": "plaintext"
    }
   },
   "outputs": [],
   "source": [
    "import os\n",
    "import cv2\n",
    "import numpy as np\n",
    "from pathlib import Path  # For handling file paths"
   ]
  },
  {
   "cell_type": "code",
   "execution_count": null,
   "metadata": {
    "vscode": {
     "languageId": "plaintext"
    }
   },
   "outputs": [],
   "source": [
    "original_dataset_path = r\"D:\\MEDLF\\DATA\\Indian Medicinal Leaves Image Datasets\"\n",
    "augmented_dataset_path = r\"D:\\MEDLF\\DATA\\augmented_images\"\n",
    "preprocessed_original_path = r\"D:\\MEDLF\\DATA\\Preprocessed_for_CNN\\Original\"\n",
    "preprocessed_augmented_path = r\"D:\\MEDLF\\DATA\\Preprocessed_for_CNN\\Augmented\""
   ]
  },
  {
   "cell_type": "code",
   "execution_count": null,
   "metadata": {
    "vscode": {
     "languageId": "plaintext"
    }
   },
   "outputs": [],
   "source": [
    "def create_directory_structure(dataset_path, preprocessed_path):\n",
    "    if not os.path.exists(preprocessed_path):\n",
    "        os.makedirs(preprocessed_path)\n",
    "    for class_folder in os.listdir(dataset_path):\n",
    "        class_path = os.path.join(dataset_path, class_folder)\n",
    "        if os.path.isdir(class_path):\n",
    "            os.makedirs(os.path.join(preprocessed_path, class_folder), exist_ok=True)\n"
   ]
  },
  {
   "cell_type": "code",
   "execution_count": null,
   "metadata": {
    "vscode": {
     "languageId": "plaintext"
    }
   },
   "outputs": [],
   "source": [
    "def preprocess_image_for_cnn(image_path):\n",
    "    # Load image\n",
    "    image = cv2.imread(image_path)\n",
    "    if image is None:\n",
    "        print(f\"Error loading image: {image_path}\")\n",
    "        return None\n",
    "    \n",
    "    # Resize to a consistent size (adjust as needed)\n",
    "    resized_image = cv2.resize(image, (224, 224))\n",
    "    \n",
    "    # Normalize the image (convert to range [0, 1])\n",
    "    normalized_image = resized_image.astype('float32') / 255.0\n",
    "    \n",
    "    return normalized_image"
   ]
  },
  {
   "cell_type": "code",
   "execution_count": null,
   "metadata": {
    "vscode": {
     "languageId": "plaintext"
    }
   },
   "outputs": [],
   "source": [
    "def preprocess_and_save_images(dataset_path, preprocessed_path):\n",
    "    for class_folder in os.listdir(dataset_path):\n",
    "        class_path = os.path.join(dataset_path, class_folder)\n",
    "        if os.path.isdir(class_path):\n",
    "            save_path = os.path.join(preprocessed_path, class_folder)\n",
    "            for image_file in os.listdir(class_path):\n",
    "                image_path = os.path.join(class_path, image_file)\n",
    "                processed_image = preprocess_image_for_cnn(image_path)\n",
    "                if processed_image is not None:\n",
    "                    # Save preprocessed image (normalized)\n",
    "                    cv2.imwrite(os.path.join(save_path, image_file), (processed_image * 255).astype(np.uint8))\n",
    "                else:\n",
    "                    print(f\"Skipping image: {image_file}\")\n"
   ]
  },
  {
   "cell_type": "code",
   "execution_count": null,
   "metadata": {
    "vscode": {
     "languageId": "plaintext"
    }
   },
   "outputs": [],
   "source": [
    "if __name__ == \"__main__\":\n",
    "    print(\"Creating directory structure for original dataset preprocessing...\")\n",
    "    create_directory_structure(original_dataset_path, preprocessed_original_path)\n",
    "    print(\"Creating directory structure for augmented dataset preprocessing...\")\n",
    "    create_directory_structure(augmented_dataset_path, preprocessed_augmented_path)\n",
    "    \n",
    "    print(\"Preprocessing original images and saving to the new directory...\")\n",
    "    preprocess_and_save_images(original_dataset_path, preprocessed_original_path)\n",
    "    \n",
    "    print(\"Preprocessing augmented images and saving to the new directory...\")\n",
    "    preprocess_and_save_images(augmented_dataset_path, preprocessed_augmented_path)\n",
    "    \n",
    "    print(\"Preprocessing complete!\")"
   ]
  }
 ],
 "metadata": {
  "language_info": {
   "name": "python"
  }
 },
 "nbformat": 4,
 "nbformat_minor": 2
}
