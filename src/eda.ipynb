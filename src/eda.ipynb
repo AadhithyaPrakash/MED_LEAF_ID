{
 "cells": [
  {
   "cell_type": "code",
   "execution_count": 1,
   "metadata": {},
   "outputs": [],
   "source": [
    "import os\n",
    "import pandas as pd\n",
    "from PIL import Image\n",
    "import matplotlib.pyplot as plt"
   ]
  },
  {
   "cell_type": "code",
   "execution_count": 2,
   "metadata": {},
   "outputs": [],
   "source": [
    "data_dir = \"D:\\MED_LEAF_ID\\data\""
   ]
  },
  {
   "cell_type": "code",
   "execution_count": 3,
   "metadata": {},
   "outputs": [],
   "source": [
    "data = []"
   ]
  },
  {
   "cell_type": "code",
   "execution_count": 4,
   "metadata": {},
   "outputs": [],
   "source": [
    "for folder_name in os.listdir(data_dir):\n",
    "    folder_path = os.path.join(data_dir, folder_name)\n",
    "    if os.path.isdir(folder_path):  # Ensure it's a folder\n",
    "        for image_name in os.listdir(folder_path):\n",
    "            image_path = os.path.join(folder_path, image_name)\n",
    "            data.append({\"image_path\": image_path, \"label\": folder_name})\n"
   ]
  },
  {
   "cell_type": "code",
   "execution_count": 5,
   "metadata": {},
   "outputs": [
    {
     "name": "stdout",
     "output_type": "stream",
     "text": [
      "Dataset Overview:\n",
      "                           image_path label\n",
      "0   D:\\MED_LEAF_ID\\data\\cnn\\augmented   cnn\n",
      "1    D:\\MED_LEAF_ID\\data\\cnn\\original   cnn\n",
      "2  D:\\MED_LEAF_ID\\data\\glcm\\augmented  glcm\n",
      "3   D:\\MED_LEAF_ID\\data\\glcm\\original  glcm\n",
      "Total Images: 4\n",
      "Total Classes: 2\n"
     ]
    }
   ],
   "source": [
    "df = pd.DataFrame(data)\n",
    "print(\"Dataset Overview:\")\n",
    "print(df.head())\n",
    "print(f\"Total Images: {len(df)}\")\n",
    "print(f\"Total Classes: {df['label'].nunique()}\")"
   ]
  },
  {
   "cell_type": "code",
   "execution_count": 6,
   "metadata": {},
   "outputs": [
    {
     "name": "stdout",
     "output_type": "stream",
     "text": [
      "\n",
      "Class Distribution:\n",
      "label\n",
      "cnn     2\n",
      "glcm    2\n",
      "Name: count, dtype: int64\n"
     ]
    }
   ],
   "source": [
    "print(\"\\nClass Distribution:\")\n",
    "print(df['label'].value_counts())"
   ]
  },
  {
   "cell_type": "code",
   "execution_count": null,
   "metadata": {},
   "outputs": [],
   "source": [
    "import random\n",
    "\n",
    "# Display random images\n",
    "for i in range(5):\n",
    "    random_row = df.sample(1).iloc[0]\n",
    "    img = Image.open(random_row['image_path'])\n",
    "    plt.imshow(img)\n",
    "    plt.title(f\"Class: {random_row['label']}\")\n",
    "    plt.axis(\"off\")\n",
    "    plt.show()"
   ]
  },
  {
   "cell_type": "code",
   "execution_count": null,
   "metadata": {},
   "outputs": [],
   "source": [
    "# Collect image properties\n",
    "dimensions = []\n",
    "for img_path in df['image_path']:\n",
    "    with Image.open(img_path) as img:\n",
    "        dimensions.append(img.size)\n",
    "\n",
    "# Analyze properties\n",
    "dim_df = pd.DataFrame(dimensions, columns=[\"Width\", \"Height\"])\n",
    "print(\"Image Properties Summary:\")\n",
    "print(dim_df.describe())\n"
   ]
  },
  {
   "cell_type": "code",
   "execution_count": null,
   "metadata": {},
   "outputs": [],
   "source": [
    "# Check for class imbalance\n",
    "import seaborn as sns\n",
    "\n",
    "sns.countplot(data=df, y=\"label\", order=df['label'].value_counts().index)\n",
    "plt.title(\"Class Distribution\")\n",
    "plt.show()\n",
    "\n",
    "# Check for corrupt images\n",
    "corrupt_count = 0\n",
    "for img_path in df['image_path']:\n",
    "    try:\n",
    "        with Image.open(img_path) as img:\n",
    "            img.verify()  # Verify if the image is valid\n",
    "    except:\n",
    "        corrupt_count += 1\n",
    "print(f\"Corrupt images: {corrupt_count}\")\n"
   ]
  },
  {
   "cell_type": "code",
   "execution_count": null,
   "metadata": {},
   "outputs": [],
   "source": [
    "import pandas as pd\n",
    "\n",
    "# Assuming 'df' is your DataFrame with 'image_path' and 'label' columns\n",
    "# Example: df = pd.DataFrame({'image_path': [image1, image2, ...], 'label': [label1, label2, ...]})\n",
    "\n",
    "# Count the number of samples for each class\n",
    "class_distribution = df['label'].value_counts()\n",
    "\n",
    "# Convert the distribution to string for better formatting\n",
    "class_distribution_str = class_distribution.to_string()\n",
    "\n",
    "# Print the entire distribution\n",
    "print(class_distribution_str)\n",
    "\n"
   ]
  }
 ],
 "metadata": {
  "kernelspec": {
   "display_name": ".venv",
   "language": "python",
   "name": "python3"
  },
  "language_info": {
   "codemirror_mode": {
    "name": "ipython",
    "version": 3
   },
   "file_extension": ".py",
   "mimetype": "text/x-python",
   "name": "python",
   "nbconvert_exporter": "python",
   "pygments_lexer": "ipython3",
   "version": "3.11.6"
  }
 },
 "nbformat": 4,
 "nbformat_minor": 2
}
