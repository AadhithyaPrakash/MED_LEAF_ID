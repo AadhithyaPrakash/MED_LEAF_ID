{
 "cells": [
  {
   "cell_type": "code",
   "execution_count": null,
   "metadata": {},
   "outputs": [],
   "source": [
    "import os\n",
    "import pandas as pd\n",
    "from PIL import Image\n",
    "import matplotlib.pyplot as plt"
   ]
  },
  {
   "cell_type": "code",
   "execution_count": null,
   "metadata": {},
   "outputs": [],
   "source": [
    "data_dir = \"D:\\MED_LEAF_ID\\data\\dataset\\Medicinal Leaf dataset\""
   ]
  },
  {
   "cell_type": "code",
   "execution_count": null,
   "metadata": {},
   "outputs": [],
   "source": [
    "data = []"
   ]
  },
  {
   "cell_type": "code",
   "execution_count": null,
   "metadata": {},
   "outputs": [],
   "source": [
    "for folder_name in os.listdir(data_dir):\n",
    "    folder_path = os.path.join(data_dir, folder_name)\n",
    "    if os.path.isdir(folder_path):  \n",
    "        for image_name in os.listdir(folder_path):\n",
    "            image_path = os.path.join(folder_path, image_name)\n",
    "            data.append({\"image_path\": image_path, \"label\": folder_name})\n"
   ]
  },
  {
   "cell_type": "code",
   "execution_count": null,
   "metadata": {},
   "outputs": [],
   "source": [
    "df = pd.DataFrame(data)\n",
    "print(\"Dataset Overview:\")\n",
    "print(df.head())\n",
    "print(f\"Total Images: {len(df)}\")\n",
    "print(f\"Total Classes: {df['label'].nunique()}\")"
   ]
  },
  {
   "cell_type": "code",
   "execution_count": null,
   "metadata": {},
   "outputs": [],
   "source": [
    "print(\"\\nClass Distribution:\")\n",
    "print(df['label'].value_counts())"
   ]
  },
  {
   "cell_type": "code",
   "execution_count": null,
   "metadata": {},
   "outputs": [],
   "source": [
    "import random\n",
    "\n",
    "# Display random images\n",
    "for i in range(5):\n",
    "    random_row = df.sample(1).iloc[0]\n",
    "    img = Image.open(random_row['image_path'])\n",
    "    plt.imshow(img)\n",
    "    plt.title(f\"Class: {random_row['label']}\")\n",
    "    plt.axis(\"off\")\n",
    "    plt.show()"
   ]
  },
  {
   "cell_type": "code",
   "execution_count": null,
   "metadata": {},
   "outputs": [],
   "source": [
    "\n",
    "dimensions = []\n",
    "for img_path in df['image_path']:\n",
    "    with Image.open(img_path) as img:\n",
    "        dimensions.append(img.size)\n",
    "dim_df = pd.DataFrame(dimensions, columns=[\"Width\", \"Height\"])\n",
    "print(\"Image Properties Summary:\")\n",
    "print(dim_df.describe())\n"
   ]
  },
  {
   "cell_type": "code",
   "execution_count": null,
   "metadata": {},
   "outputs": [],
   "source": [
    "\n",
    "import seaborn as sns\n",
    "\n",
    "sns.countplot(data=df, y=\"label\", order=df['label'].value_counts().index)\n",
    "plt.title(\"Class Distribution\")\n",
    "plt.show()\n",
    "\n",
    "corrupt_count = 0\n",
    "for img_path in df['image_path']:\n",
    "    try:\n",
    "        with Image.open(img_path) as img:\n",
    "            img.verify()  \n",
    "    except:\n",
    "        corrupt_count += 1\n",
    "print(f\"Corrupt images: {corrupt_count}\")\n"
   ]
  },
  {
   "cell_type": "code",
   "execution_count": null,
   "metadata": {},
   "outputs": [],
   "source": [
    "class_distribution = df['label'].value_counts()\n",
    "\n",
    "class_distribution_str = class_distribution.to_string()\n",
    "\n",
    "print(class_distribution_str)\n",
    "\n"
   ]
  }
 ],
 "metadata": {
  "kernelspec": {
   "display_name": "Python 3",
   "language": "python",
   "name": "python3"
  },
  "language_info": {
   "codemirror_mode": {
    "name": "ipython",
    "version": 3
   },
   "file_extension": ".py",
   "mimetype": "text/x-python",
   "name": "python",
   "nbconvert_exporter": "python",
   "pygments_lexer": "ipython3",
   "version": "3.13.1"
  }
 },
 "nbformat": 4,
 "nbformat_minor": 2
}
