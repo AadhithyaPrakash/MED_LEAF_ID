{
 "cells": [
  {
   "cell_type": "code",
   "execution_count": null,
   "metadata": {},
   "outputs": [],
   "source": [
    "import os\n",
    "import cv2 \n",
    "from pathlib import Path \n"
   ]
  },
  {
   "cell_type": "code",
   "execution_count": 2,
   "metadata": {},
   "outputs": [],
   "source": [
    "original_dataset_path = r\"D:\\MED_LEAF_ID\\data\\dataset\\Medicinal Leaf dataset\"\n",
    "augmented_dataset_path = r\"D:\\MED_LEAF_ID\\data\\augmented\"\n",
    "preprocessed_original_path = r\"D:\\MED_LEAF_ID\\data\\glcm\\original\"\n",
    "preprocessed_augmented_path = r\"D:\\MED_LEAF_ID\\data\\glcm\\augmented\"\n"
   ]
  },
  {
   "cell_type": "code",
   "execution_count": 3,
   "metadata": {},
   "outputs": [],
   "source": [
    "def create_directory_structure(dataset_path, preprocessed_path):\n",
    "    if not os.path.exists(preprocessed_path):\n",
    "        os.makedirs(preprocessed_path)\n",
    "    for class_folder in os.listdir(dataset_path):\n",
    "        class_path = os.path.join(dataset_path, class_folder)\n",
    "        if os.path.isdir(class_path):\n",
    "            os.makedirs(os.path.join(preprocessed_path, class_folder), exist_ok=True)\n"
   ]
  },
  {
   "cell_type": "code",
   "execution_count": 4,
   "metadata": {},
   "outputs": [],
   "source": [
    "def preprocess_image(image_path):\n",
    "    # Load image\n",
    "    image = cv2.imread(image_path)\n",
    "    if image is None:\n",
    "        print(f\"Error loading image: {image_path}\")\n",
    "        return None\n",
    "    gray_image = cv2.cvtColor(image, cv2.COLOR_BGR2GRAY)\n",
    "    blurred_image = cv2.GaussianBlur(gray_image, (5, 5), 0)\n",
    "    resized_image = cv2.resize(blurred_image, (256, 256))\n",
    "    return resized_image"
   ]
  },
  {
   "cell_type": "code",
   "execution_count": 5,
   "metadata": {},
   "outputs": [],
   "source": [
    "def preprocess_and_save_images(dataset_path, preprocessed_path):\n",
    "    for class_folder in os.listdir(dataset_path):\n",
    "        class_path = os.path.join(dataset_path, class_folder)\n",
    "        if os.path.isdir(class_path):\n",
    "            save_path = os.path.join(preprocessed_path, class_folder)\n",
    "            for image_file in os.listdir(class_path):\n",
    "                image_path = os.path.join(class_path, image_file)\n",
    "                processed_image = preprocess_image(image_path)\n",
    "                if processed_image is not None:\n",
    "                    cv2.imwrite(os.path.join(save_path, image_file), processed_image)\n",
    "                else:\n",
    "                    print(f\"Skipping image: {image_file}\")\n"
   ]
  },
  {
   "cell_type": "code",
   "execution_count": null,
   "metadata": {},
   "outputs": [
    {
     "name": "stdout",
     "output_type": "stream",
     "text": [
      "Creating directory structure for original dataset preprocessing...\n",
      "Creating directory structure for augmented dataset preprocessing...\n",
      "Preprocessing original images and saving to the new directory...\n",
      "Preprocessing augmented images and saving to the new directory...\n",
      "Preprocessing complete!\n"
     ]
    }
   ],
   "source": [
    "if __name__ == \"__main__\":\n",
    "\n",
    "    create_directory_structure(original_dataset_path, preprocessed_original_path)\n",
    "    create_directory_structure(augmented_dataset_path, preprocessed_augmented_path)\n",
    "    preprocess_and_save_images(original_dataset_path, preprocessed_original_path)\n",
    "    preprocess_and_save_images(augmented_dataset_path, preprocessed_augmented_path)\n",
    "    print(\"Preprocessing complete!\")"
   ]
  }
 ],
 "metadata": {
  "kernelspec": {
   "display_name": ".venv",
   "language": "python",
   "name": "python3"
  },
  "language_info": {
   "codemirror_mode": {
    "name": "ipython",
    "version": 3
   },
   "file_extension": ".py",
   "mimetype": "text/x-python",
   "name": "python",
   "nbconvert_exporter": "python",
   "pygments_lexer": "ipython3",
   "version": "3.11.6"
  }
 },
 "nbformat": 4,
 "nbformat_minor": 2
}
