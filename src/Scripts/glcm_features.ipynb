{
 "cells": [
  {
   "cell_type": "code",
   "execution_count": 1,
   "metadata": {},
   "outputs": [],
   "source": [
    "import os\n",
    "import cv2\n",
    "import numpy as np\n",
    "import pandas as pd\n",
    "from skimage.feature import graycomatrix, graycoprops"
   ]
  },
  {
   "cell_type": "code",
   "execution_count": null,
   "metadata": {},
   "outputs": [],
   "source": [
    "input_dir = r'D:\\MED_LEAF_ID\\preprocessed_glcm'\n",
    "distances = [1, 2, 3, 4, 5]  \n",
    "angles = [0, np.pi/4, np.pi/2, 3*np.pi/4]  \n",
    "allowed_extensions = {'.jpg', '.png', '.jpeg'}\n",
    "features_list = []"
   ]
  },
  {
   "cell_type": "code",
   "execution_count": null,
   "metadata": {},
   "outputs": [],
   "source": [
    "for root, dirs, files in os.walk(input_dir):\n",
    "    for filename in files:\n",
    "        if os.path.splitext(filename)[1].lower() in allowed_extensions:\n",
    "            img_path = os.path.join(root, filename)\n",
    "            class_name = os.path.basename(root)\n",
    "            image = cv2.imread(img_path, cv2.IMREAD_GRAYSCALE)\n",
    "            if image is None:\n",
    "                print(f\"❌ Skipping unreadable image: {img_path}\")\n",
    "                continue\n",
    "            image = cv2.normalize(image, None, 0, 255, cv2.NORM_MINMAX)\n",
    "\n",
    "            glcm_features = []\n",
    "\n",
    "            for d in distances:\n",
    "                for angle in angles:\n",
    "                  \n",
    "                    glcm = graycomatrix(image, distances=[d], angles=[angle], symmetric=True, normed=True)\n",
    "                    contrast = graycoprops(glcm, 'contrast')[0, 0]\n",
    "                    energy = graycoprops(glcm, 'energy')[0, 0]\n",
    "                    homogeneity = graycoprops(glcm, 'homogeneity')[0, 0]\n",
    "                    correlation = graycoprops(glcm, 'correlation')[0, 0]\n",
    "                    dissimilarity = graycoprops(glcm, 'dissimilarity')[0, 0]\n",
    "                    asm = graycoprops(glcm, 'ASM')[0, 0]\n",
    "                    entropy = -np.sum(glcm * np.log2(glcm + np.finfo(float).eps))\n",
    "\n",
    "                    glcm_features.extend([contrast, energy, homogeneity, correlation, dissimilarity, asm, entropy])\n",
    "            features_list.append([class_name, filename] + glcm_features)"
   ]
  },
  {
   "cell_type": "code",
   "execution_count": null,
   "metadata": {},
   "outputs": [],
   "source": [
    "columns = ['Class_Name', 'Image_Name']  \n",
    "for d in distances:\n",
    "    for angle in angles:\n",
    "        columns += [\n",
    "            f'contrast_d{d}_a{angle}',\n",
    "            f'energy_d{d}_a{angle}',\n",
    "            f'homogeneity_d{d}_a{angle}',\n",
    "            f'correlation_d{d}_a{angle}',\n",
    "            f'dissimilarity_d{d}_a{angle}',\n",
    "            f'asm_d{d}_a{angle}',\n",
    "            f'entropy_d{d}_a{angle}'\n",
    "        ]\n",
    "df = pd.DataFrame(features_list, columns=columns)"
   ]
  },
  {
   "cell_type": "code",
   "execution_count": 15,
   "metadata": {},
   "outputs": [
    {
     "name": "stdout",
     "output_type": "stream",
     "text": [
      "Features extracted and saved to D:\\MED_LEAF_ID-1\\data\\glcm_features.csv\n"
     ]
    }
   ],
   "source": [
    "output_file = r'D:\\MED_LEAF_ID-1\\data\\glcm_features.csv'\n",
    "df.to_csv(output_file, index=False)\n",
    "\n",
    "print(f\"Features extracted and saved to {output_file}\")"
   ]
  },
  {
   "cell_type": "code",
   "execution_count": null,
   "metadata": {},
   "outputs": [],
   "source": []
  }
 ],
 "metadata": {
  "kernelspec": {
   "display_name": "base",
   "language": "python",
   "name": "python3"
  },
  "language_info": {
   "codemirror_mode": {
    "name": "ipython",
    "version": 3
   },
   "file_extension": ".py",
   "mimetype": "text/x-python",
   "name": "python",
   "nbconvert_exporter": "python",
   "pygments_lexer": "ipython3",
   "version": "3.11.8"
  }
 },
 "nbformat": 4,
 "nbformat_minor": 2
}
