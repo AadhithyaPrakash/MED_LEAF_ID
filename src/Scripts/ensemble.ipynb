{
 "cells": [
  {
   "cell_type": "code",
   "execution_count": null,
   "metadata": {
    "vscode": {
     "languageId": "plaintext"
    }
   },
   "outputs": [],
   "source": [
    "import os\n",
    "import json\n",
    "import torch\n",
    "import torchvision\n",
    "import torch.nn as nn\n",
    "import numpy as np\n",
    "import cv2\n",
    "import gradio as gr\n",
    "from skimage.feature import graycomatrix, graycoprops\n",
    "from sklearn.ensemble import RandomForestClassifier\n",
    "import joblib"
   ]
  },
  {
   "cell_type": "code",
   "execution_count": null,
   "metadata": {
    "vscode": {
     "languageId": "plaintext"
    }
   },
   "outputs": [],
   "source": [
    "json_path = r\"D:\\MED_LEAF_ID\\class_labels.json\""
   ]
  },
  {
   "cell_type": "code",
   "execution_count": null,
   "metadata": {
    "vscode": {
     "languageId": "plaintext"
    }
   },
   "outputs": [],
   "source": [
    "if not os.path.exists(json_path):\n",
    "    print(\"⚠️ class_labels.json not found! Generating...\")\n",
    "    dataset_path = r\"D:\\MED_LEAF_ID\\dataset\\Medicinal Leaf dataset\"\n",
    "    class_labels = {str(idx): class_name for idx, class_name in enumerate(sorted(os.listdir(dataset_path)))}\n",
    "    with open(json_path, \"w\") as f:\n",
    "        json.dump(class_labels, f, indent=4)\n",
    "    print(f\"✅ Class labels saved to {json_path}\")\n",
    "else:\n",
    "    with open(json_path, \"r\") as f:\n",
    "        class_labels = json.load(f)"
   ]
  },
  {
   "cell_type": "code",
   "execution_count": null,
   "metadata": {
    "vscode": {
     "languageId": "plaintext"
    }
   },
   "outputs": [],
   "source": [
    "def get_class_name(pred_class):\n",
    "    return class_labels.get(str(pred_class), \"Unknown Class\")\n"
   ]
  },
  {
   "cell_type": "code",
   "execution_count": null,
   "metadata": {
    "vscode": {
     "languageId": "plaintext"
    }
   },
   "outputs": [],
   "source": [
    "class EfficientNetB0Classifier(nn.Module):\n",
    "    def __init__(self, num_classes):\n",
    "        super(EfficientNetB0Classifier, self).__init__()\n",
    "        self.base_model = torchvision.models.efficientnet_b0(pretrained=True)\n",
    "        self.base_model.classifier[1] = nn.Linear(self.base_model.classifier[1].in_features, num_classes)\n",
    "        self.base_model.classifier.add_module('dropout', nn.Dropout(0.2))\n",
    "\n",
    "    def forward(self, x):\n",
    "        return self.base_model(x)\n"
   ]
  },
  {
   "cell_type": "code",
   "execution_count": null,
   "metadata": {
    "vscode": {
     "languageId": "plaintext"
    }
   },
   "outputs": [],
   "source": [
    "cnn_model_path = r\"D:\\MED_LEAF_ID\\models\\efficientnetb0_leaf_model.pth\"\n",
    "cnn_model = EfficientNetB0Classifier(num_classes=80)\n",
    "cnn_model.load_state_dict(torch.load(cnn_model_path, map_location=\"cpu\"))\n",
    "cnn_model.eval()"
   ]
  },
  {
   "cell_type": "code",
   "execution_count": null,
   "metadata": {
    "vscode": {
     "languageId": "plaintext"
    }
   },
   "outputs": [],
   "source": [
    "rf_model_path = r\"D:\\MED_LEAF_ID\\models\\rf_glcm_model.pkl\"\n",
    "rf_model = joblib.load(rf_model_path)"
   ]
  },
  {
   "cell_type": "code",
   "execution_count": null,
   "metadata": {
    "vscode": {
     "languageId": "plaintext"
    }
   },
   "outputs": [],
   "source": [
    "def extract_glcm_features(image):\n",
    "    try:\n",
    "        gray = cv2.cvtColor(image, cv2.COLOR_BGR2GRAY)\n",
    "        glcm = graycomatrix(gray, distances=[1], angles=[0], levels=256, symmetric=True, normed=True)\n",
    "        features = np.hstack([\n",
    "            graycoprops(glcm, 'contrast').flatten(),\n",
    "            graycoprops(glcm, 'dissimilarity').flatten(),\n",
    "            graycoprops(glcm, 'homogeneity').flatten(),\n",
    "            graycoprops(glcm, 'energy').flatten(),\n",
    "            graycoprops(glcm, 'correlation').flatten(),\n",
    "            graycoprops(glcm, 'ASM').flatten(),\n",
    "        ])\n",
    "        return features\n",
    "    except Exception as e:\n",
    "        return None"
   ]
  },
  {
   "cell_type": "code",
   "execution_count": null,
   "metadata": {
    "vscode": {
     "languageId": "plaintext"
    }
   },
   "outputs": [],
   "source": [
    "def predict(image):\n",
    "    try:\n",
    "        # CNN Prediction\n",
    "        img_resized = cv2.resize(image, (224, 224)) / 255.0\n",
    "        img_tensor = torch.tensor(img_resized, dtype=torch.float32).permute(2, 0, 1).unsqueeze(0)\n",
    "        cnn_pred = torch.argmax(cnn_model(img_tensor)).item()\n",
    "\n",
    "        # GLCM + RandomForest Prediction\n",
    "        glcm_features = extract_glcm_features(image)\n",
    "        if glcm_features is None or len(glcm_features) != 30:\n",
    "            return \"Error: GLCM feature extraction failed!\"\n",
    "\n",
    "        rf_pred = rf_model.predict([glcm_features])[0]\n",
    "\n",
    "        # Weighted Ensemble (70% CNN, 30% RF)\n",
    "        final_pred = cnn_pred if np.random.rand() < 0.7 else rf_pred\n",
    "        plant_name = get_class_name(final_pred)\n",
    "\n",
    "        return f\"Predicted Plant: {plant_name}\"\n",
    "    except Exception as e:\n",
    "        return f\"Error in prediction: {str(e)}\""
   ]
  },
  {
   "cell_type": "code",
   "execution_count": null,
   "metadata": {
    "vscode": {
     "languageId": "plaintext"
    }
   },
   "outputs": [],
   "source": [
    "import json\n",
    "\n",
    "# Load class labels\n",
    "json_path = r\"D:\\MED_LEAF_ID\\class_labels.json\"\n",
    "with open(json_path, \"r\") as f:\n",
    "    class_mapping = json.load(f)\n",
    "\n",
    "# Example: Your model predicts class index 0\n",
    "predicted_class_index = 0  # Replace this with your actual model prediction\n",
    "\n",
    "# Get the plant name\n",
    "plant_name = class_mapping.get(str(predicted_class_index), \"Unknown\")\n",
    "\n",
    "print(f\"🌿 Predicted Plant Name: {plant_name}\")\n"
   ]
  },
  {
   "cell_type": "code",
   "execution_count": null,
   "metadata": {
    "vscode": {
     "languageId": "plaintext"
    }
   },
   "outputs": [],
   "source": [
    "iface = gr.Interface(fn=predict, inputs=gr.Image(type=\"numpy\"), outputs=\"text\")\n",
    "iface.launch()"
   ]
  }
 ],
 "metadata": {
  "language_info": {
   "name": "python"
  }
 },
 "nbformat": 4,
 "nbformat_minor": 2
}
