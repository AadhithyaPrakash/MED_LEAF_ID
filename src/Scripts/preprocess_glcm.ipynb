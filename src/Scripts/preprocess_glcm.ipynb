{
 "cells": [
  {
   "cell_type": "code",
   "execution_count": null,
   "metadata": {},
   "outputs": [],
   "source": [
    "import os\n",
    "import cv2\n",
    "import torch\n",
    "import torchvision.transforms as transforms\n",
    "import numpy as np\n",
    "from PIL import Image\n",
    "from rembg import remove  "
   ]
  },
  {
   "cell_type": "code",
   "execution_count": 7,
   "metadata": {},
   "outputs": [],
   "source": [
    "input_dir = \"D:\\MED_LEAF_ID-1\\dataset\\Medicinal Leaf dataset\"\n",
    "output_dir = \"D:/MED_LEAF_ID/preprocessed_glcm\"\n",
    "os.makedirs(output_dir, exist_ok=True)"
   ]
  },
  {
   "cell_type": "code",
   "execution_count": 8,
   "metadata": {},
   "outputs": [],
   "source": [
    "allowed_extensions = {\".jpg\", \".jpeg\", \".png\", \".bmp\"}"
   ]
  },
  {
   "cell_type": "code",
   "execution_count": null,
   "metadata": {},
   "outputs": [],
   "source": [
    "def preprocess_image(image):\n",
    "   \n",
    "    pil_image = Image.fromarray(image)\n",
    "    output_pil = remove(pil_image)\n",
    "    output_np = np.array(output_pil)\n",
    "    \n",
    "    if output_np.shape[2] == 4:  \n",
    "        output_np = cv2.cvtColor(output_np, cv2.COLOR_BGRA2BGR)  \n",
    "    gray = cv2.cvtColor(output_np, cv2.COLOR_BGR2GRAY)\n",
    "\n",
    "    clahe = cv2.createCLAHE(clipLimit=2.0, tileGridSize=(8, 8))\n",
    "    gray = clahe.apply(gray)\n",
    "    blurred = cv2.GaussianBlur(gray, (5, 5), 0)\n",
    "\n",
    "    edges = cv2.Sobel(blurred, cv2.CV_64F, 1, 1, ksize=3)\n",
    "    edges = cv2.convertScaleAbs(edges)\n",
    "    combined = cv2.addWeighted(blurred, 0.7, edges, 0.3, 0)\n",
    "\n",
    "    normalized = cv2.normalize(combined, None, 0, 255, cv2.NORM_MINMAX)\n",
    "\n",
    "    _, mask = cv2.threshold(normalized, 0, 255, cv2.THRESH_BINARY + cv2.THRESH_OTSU)\n",
    "\n",
    "    kernel = np.ones((5, 5), np.uint8)\n",
    "    mask = cv2.morphologyEx(mask, cv2.MORPH_CLOSE, kernel)\n",
    "\n",
    "    output_np[mask == 0] = (255, 255, 255)  \n",
    "\n",
    "    return output_np"
   ]
  },
  {
   "cell_type": "code",
   "execution_count": null,
   "metadata": {},
   "outputs": [],
   "source": [
    "augmentations = transforms.Compose([\n",
    "    transforms.RandomHorizontalFlip(p=0.5),\n",
    "    transforms.RandomVerticalFlip(p=0.5),\n",
    "    transforms.RandomRotation(degrees=15),  \n",
    "    transforms.ColorJitter(brightness=0.1, contrast=0.1), \n",
    "    transforms.GaussianBlur(kernel_size=5), \n",
    "])"
   ]
  },
  {
   "cell_type": "code",
   "execution_count": null,
   "metadata": {},
   "outputs": [],
   "source": [
    "for root, _, files in os.walk(input_dir):\n",
    "    for filename in files:\n",
    "        if os.path.splitext(filename)[1].lower() in allowed_extensions:  \n",
    "            img_path = os.path.join(root, filename)\n",
    "\n",
    "            # Read Image\n",
    "            image = cv2.imread(img_path)\n",
    "\n",
    "            if image is None:\n",
    "                print(f\" Skipping unreadable image: {img_path}\")\n",
    "                continue\n",
    "\n",
    "            processed_img = preprocess_image(image)\n",
    "            processed_pil = Image.fromarray(processed_img)\n",
    "            augmented_pil = augmentations(processed_pil)\n",
    "            augmented_np = np.array(augmented_pil)\n",
    "            relative_path = os.path.relpath(img_path, input_dir)\n",
    "            save_path = os.path.join(output_dir, relative_path)\n",
    "            os.makedirs(os.path.dirname(save_path), exist_ok=True)\n",
    "            cv2.imwrite(save_path, augmented_np)\n",
    "\n",
    "            print(f\"Saved: {save_path}\")\n",
    "\n",
    "print(\"GLCM Preprocessing Completed!\")"
   ]
  }
 ],
 "metadata": {
  "kernelspec": {
   "display_name": "base",
   "language": "python",
   "name": "python3"
  },
  "language_info": {
   "codemirror_mode": {
    "name": "ipython",
    "version": 3
   },
   "file_extension": ".py",
   "mimetype": "text/x-python",
   "name": "python",
   "nbconvert_exporter": "python",
   "pygments_lexer": "ipython3",
   "version": "3.11.8"
  }
 },
 "nbformat": 4,
 "nbformat_minor": 2
}
