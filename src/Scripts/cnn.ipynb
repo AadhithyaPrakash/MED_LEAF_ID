{
 "cells": [
  {
   "cell_type": "code",
   "execution_count": 3,
   "metadata": {},
   "outputs": [],
   "source": [
    "import os\n",
    "import numpy as np\n",
    "import torch\n",
    "import torch.nn as nn\n",
    "import torch.optim as optim\n",
    "import torchvision\n",
    "from torchvision import datasets, transforms\n",
    "from torch.utils.data import DataLoader, Subset\n",
    "from sklearn.utils.class_weight import compute_class_weight\n",
    "from sklearn.metrics import (\n",
    "    accuracy_score,\n",
    "    precision_score,\n",
    "    recall_score,\n",
    "    f1_score,\n",
    "    classification_report,\n",
    "    confusion_matrix,\n",
    ")\n",
    "import matplotlib.pyplot as plt\n",
    "import seaborn as sns\n",
    "from tqdm import tqdm\n"
   ]
  },
  {
   "cell_type": "code",
   "execution_count": 4,
   "metadata": {},
   "outputs": [],
   "source": [
    "original_data_dir = r\"D:\\MED_LEAF_ID-1\\data\\cnn\\original\"\n",
    "augmented_data_dir =  r\"D:\\MED_LEAF_ID-1\\data\\cnn\\augmented\"\n"
   ]
  },
  {
   "cell_type": "code",
   "execution_count": null,
   "metadata": {},
   "outputs": [],
   "source": [
    "train_transforms = transforms.Compose([\n",
    "    transforms.RandomResizedCrop(224),\n",
    "    transforms.RandomHorizontalFlip(),\n",
    "    transforms.RandomRotation(20),\n",
    "    transforms.ColorJitter(brightness=0.2, contrast=0.2, saturation=0.2, hue=0.2),\n",
    "    transforms.ToTensor(),\n",
    "    transforms.Normalize(mean=[0.485, 0.456, 0.406], std=[0.229, 0.224, 0.225]), \n",
    "])"
   ]
  },
  {
   "cell_type": "code",
   "execution_count": 6,
   "metadata": {},
   "outputs": [],
   "source": [
    "val_test_transforms = transforms.Compose([\n",
    "    transforms.Resize(256),\n",
    "    transforms.CenterCrop(224),\n",
    "    transforms.ToTensor(),\n",
    "    transforms.Normalize(mean=[0.485, 0.456, 0.406], std=[0.229, 0.224, 0.225]),\n",
    "])"
   ]
  },
  {
   "cell_type": "code",
   "execution_count": null,
   "metadata": {},
   "outputs": [],
   "source": [
    "train_data = datasets.ImageFolder(root=original_data_dir, transform=train_transforms)\n",
    "augmented_data = datasets.ImageFolder(root=augmented_data_dir, transform=train_transforms)\n",
    "\n",
    "\n",
    "full_train_data = torch.utils.data.ConcatDataset([train_data, augmented_data])\n",
    "\n",
    "\n",
    "train_size = int(0.7 * len(full_train_data))\n",
    "val_size = int(0.15 * len(full_train_data))\n",
    "test_size = len(full_train_data) - train_size - val_size\n",
    "\n",
    "train_dataset, val_dataset, test_dataset = torch.utils.data.random_split(full_train_data, [train_size, val_size, test_size])\n",
    "\n",
    "train_loader = DataLoader(train_dataset, batch_size=32, shuffle=True)\n",
    "val_loader = DataLoader(val_dataset, batch_size=32, shuffle=False)\n",
    "test_loader = DataLoader(test_dataset, batch_size=32, shuffle=False)\n"
   ]
  },
  {
   "cell_type": "code",
   "execution_count": null,
   "metadata": {},
   "outputs": [],
   "source": [
    "class EfficientNetB0Classifier(nn.Module):\n",
    "    def __init__(self, num_classes):\n",
    "        super(EfficientNetB0Classifier, self).__init__()\n",
    "        self.base_model = torchvision.models.efficientnet_b0(pretrained=True)\n",
    "        self.base_model.classifier[1] = nn.Linear(self.base_model.classifier[1].in_features, num_classes)\n",
    "        self.base_model.classifier.add_module('dropout', nn.Dropout(0.2))  \n",
    "    def forward(self, x):\n",
    "        return self.base_model(x)"
   ]
  },
  {
   "cell_type": "code",
   "execution_count": 9,
   "metadata": {},
   "outputs": [
    {
     "name": "stderr",
     "output_type": "stream",
     "text": [
      "d:\\MED_LEAF_ID-1\\base\\Lib\\site-packages\\torchvision\\models\\_utils.py:208: UserWarning: The parameter 'pretrained' is deprecated since 0.13 and may be removed in the future, please use 'weights' instead.\n",
      "  warnings.warn(\n",
      "d:\\MED_LEAF_ID-1\\base\\Lib\\site-packages\\torchvision\\models\\_utils.py:223: UserWarning: Arguments other than a weight enum or `None` for 'weights' are deprecated since 0.13 and may be removed in the future. The current behavior is equivalent to passing `weights=EfficientNet_B0_Weights.IMAGENET1K_V1`. You can also use `weights=EfficientNet_B0_Weights.DEFAULT` to get the most up-to-date weights.\n",
      "  warnings.warn(msg)\n"
     ]
    },
    {
     "name": "stdout",
     "output_type": "stream",
     "text": [
      "cuda\n"
     ]
    }
   ],
   "source": [
    "num_classes = len(train_data.classes)\n",
    "model = EfficientNetB0Classifier(num_classes=num_classes)\n",
    "\n",
    "device = torch.device(\"cuda\" if torch.cuda.is_available() else \"cpu\")\n",
    "model = model.to(device)\n",
    "print(device)\n",
    "criterion = nn.CrossEntropyLoss()\n",
    "\n",
    "y_train = [label for _, label in train_dataset]\n",
    "class_weights = compute_class_weight('balanced', classes=np.unique(y_train), y=y_train)\n",
    "class_weights = torch.tensor(class_weights, dtype=torch.float32).to(device)\n",
    "\n",
    "optimizer = optim.Adam(model.parameters(), lr=0.001)"
   ]
  },
  {
   "cell_type": "code",
   "execution_count": null,
   "metadata": {},
   "outputs": [],
   "source": [
    "def train(model, train_loader, val_loader, optimizer, criterion, num_epochs=30, patience=5):\n",
    "    best_val_loss = float('inf')\n",
    "    epochs_no_improve = 0\n",
    "    best_model_wts = model.state_dict()\n",
    "    \n",
    "    train_losses, val_losses, train_accuracies, val_accuracies = [], [], [], []\n",
    "\n",
    "    for epoch in range(num_epochs):\n",
    "        model.train()\n",
    "        running_loss = 0.0\n",
    "        correct_preds = 0\n",
    "        total_preds = 0\n",
    "\n",
    "        for inputs, labels in tqdm(train_loader, desc=f\"Training Epoch {epoch+1}/{num_epochs}\"):\n",
    "            inputs, labels = inputs.to(device), labels.to(device)\n",
    "\n",
    "            optimizer.zero_grad()\n",
    "            outputs = model(inputs)\n",
    "            loss = criterion(outputs, labels)\n",
    "            loss.backward()\n",
    "            optimizer.step()\n",
    "\n",
    "            running_loss += loss.item() * inputs.size(0)\n",
    "            _, preds = torch.max(outputs, 1)\n",
    "            correct_preds += torch.sum(preds == labels.data)\n",
    "            total_preds += labels.size(0)\n",
    "\n",
    "        epoch_loss = running_loss / len(train_loader.dataset)\n",
    "        epoch_acc = correct_preds.double() / total_preds\n",
    "\n",
    "        model.eval()\n",
    "        val_loss = 0.0\n",
    "        correct_preds = 0\n",
    "        total_preds = 0\n",
    "\n",
    "        with torch.no_grad():\n",
    "            for inputs, labels in val_loader:\n",
    "                inputs, labels = inputs.to(device), labels.to(device)\n",
    "                outputs = model(inputs)\n",
    "                loss = criterion(outputs, labels)\n",
    "                val_loss += loss.item() * inputs.size(0)\n",
    "                _, preds = torch.max(outputs, 1)\n",
    "                correct_preds += torch.sum(preds == labels.data)\n",
    "                total_preds += labels.size(0)\n",
    "\n",
    "        val_loss /= len(val_loader.dataset)\n",
    "        val_acc = correct_preds.double() / total_preds\n",
    "\n",
    "        if val_loss < best_val_loss:\n",
    "            best_val_loss = val_loss\n",
    "            best_model_wts = model.state_dict()\n",
    "            epochs_no_improve = 0\n",
    "        else:\n",
    "            epochs_no_improve += 1\n",
    "\n",
    "        if epochs_no_improve >= patience:\n",
    "            print(\"Early stopping triggered\")\n",
    "            break\n",
    "\n",
    "        train_losses.append(epoch_loss)\n",
    "        val_losses.append(val_loss)\n",
    "        train_accuracies.append(epoch_acc)\n",
    "        val_accuracies.append(val_acc)\n",
    "\n",
    "        print(f\"Epoch {epoch+1}/{num_epochs} => Train Loss: {epoch_loss:.4f}, Train Accuracy: {epoch_acc:.4f}, \"\n",
    "              f\"Val Loss: {val_loss:.4f}, Val Accuracy: {val_acc:.4f}\")\n",
    "\n",
    "    \n",
    "    model.load_state_dict(best_model_wts)\n",
    "    return model, train_losses, val_losses, train_accuracies, val_accuracies"
   ]
  },
  {
   "cell_type": "code",
   "execution_count": null,
   "metadata": {},
   "outputs": [
    {
     "name": "stdout",
     "output_type": "stream",
     "text": [
      "Labels in batch: [ 4 32 58 50 69 52 39 13 48 55]\n"
     ]
    }
   ],
   "source": [
    "for inputs, labels in train_loader:\n",
    "    print(\"Labels in batch:\", labels[:10].cpu().numpy()) \n",
    "    break"
   ]
  },
  {
   "cell_type": "code",
   "execution_count": 15,
   "metadata": {},
   "outputs": [
    {
     "name": "stderr",
     "output_type": "stream",
     "text": [
      "Training Epoch 1/50: 100%|██████████| 302/302 [04:34<00:00,  1.10it/s]\n"
     ]
    },
    {
     "name": "stdout",
     "output_type": "stream",
     "text": [
      "Epoch 1/50 => Train Loss: 0.9864, Train Accuracy: 0.7300, Val Loss: 0.4326, Val Accuracy: 0.8821\n"
     ]
    },
    {
     "name": "stderr",
     "output_type": "stream",
     "text": [
      "Training Epoch 2/50: 100%|██████████| 302/302 [04:13<00:00,  1.19it/s]\n"
     ]
    },
    {
     "name": "stdout",
     "output_type": "stream",
     "text": [
      "Epoch 2/50 => Train Loss: 0.9990, Train Accuracy: 0.7297, Val Loss: 0.5241, Val Accuracy: 0.8585\n"
     ]
    },
    {
     "name": "stderr",
     "output_type": "stream",
     "text": [
      "Training Epoch 3/50: 100%|██████████| 302/302 [05:17<00:00,  1.05s/it]\n"
     ]
    },
    {
     "name": "stdout",
     "output_type": "stream",
     "text": [
      "Epoch 3/50 => Train Loss: 0.9898, Train Accuracy: 0.7320, Val Loss: 0.4885, Val Accuracy: 0.8628\n"
     ]
    },
    {
     "name": "stderr",
     "output_type": "stream",
     "text": [
      "Training Epoch 4/50: 100%|██████████| 302/302 [04:37<00:00,  1.09it/s]\n"
     ]
    },
    {
     "name": "stdout",
     "output_type": "stream",
     "text": [
      "Epoch 4/50 => Train Loss: 0.9750, Train Accuracy: 0.7345, Val Loss: 0.4676, Val Accuracy: 0.8749\n"
     ]
    },
    {
     "name": "stderr",
     "output_type": "stream",
     "text": [
      "Training Epoch 5/50: 100%|██████████| 302/302 [04:21<00:00,  1.15it/s]\n"
     ]
    },
    {
     "name": "stdout",
     "output_type": "stream",
     "text": [
      "Epoch 5/50 => Train Loss: 0.9823, Train Accuracy: 0.7308, Val Loss: 0.4111, Val Accuracy: 0.8812\n"
     ]
    },
    {
     "name": "stderr",
     "output_type": "stream",
     "text": [
      "Training Epoch 6/50: 100%|██████████| 302/302 [04:22<00:00,  1.15it/s]\n"
     ]
    },
    {
     "name": "stdout",
     "output_type": "stream",
     "text": [
      "Epoch 6/50 => Train Loss: 0.9391, Train Accuracy: 0.7419, Val Loss: 0.4525, Val Accuracy: 0.8778\n"
     ]
    },
    {
     "name": "stderr",
     "output_type": "stream",
     "text": [
      "Training Epoch 7/50: 100%|██████████| 302/302 [04:24<00:00,  1.14it/s]\n"
     ]
    },
    {
     "name": "stdout",
     "output_type": "stream",
     "text": [
      "Epoch 7/50 => Train Loss: 0.9728, Train Accuracy: 0.7316, Val Loss: 0.4012, Val Accuracy: 0.8894\n"
     ]
    },
    {
     "name": "stderr",
     "output_type": "stream",
     "text": [
      "Training Epoch 8/50: 100%|██████████| 302/302 [04:07<00:00,  1.22it/s]\n"
     ]
    },
    {
     "name": "stdout",
     "output_type": "stream",
     "text": [
      "Epoch 8/50 => Train Loss: 0.9756, Train Accuracy: 0.7299, Val Loss: 0.4102, Val Accuracy: 0.8845\n"
     ]
    },
    {
     "name": "stderr",
     "output_type": "stream",
     "text": [
      "Training Epoch 9/50: 100%|██████████| 302/302 [04:33<00:00,  1.11it/s]\n"
     ]
    },
    {
     "name": "stdout",
     "output_type": "stream",
     "text": [
      "Epoch 9/50 => Train Loss: 0.9513, Train Accuracy: 0.7391, Val Loss: 0.4211, Val Accuracy: 0.8899\n"
     ]
    },
    {
     "name": "stderr",
     "output_type": "stream",
     "text": [
      "Training Epoch 10/50: 100%|██████████| 302/302 [03:37<00:00,  1.39it/s]\n"
     ]
    },
    {
     "name": "stdout",
     "output_type": "stream",
     "text": [
      "Epoch 10/50 => Train Loss: 0.9657, Train Accuracy: 0.7308, Val Loss: 0.4515, Val Accuracy: 0.8773\n"
     ]
    },
    {
     "name": "stderr",
     "output_type": "stream",
     "text": [
      "Training Epoch 11/50: 100%|██████████| 302/302 [02:14<00:00,  2.24it/s]\n"
     ]
    },
    {
     "name": "stdout",
     "output_type": "stream",
     "text": [
      "Epoch 11/50 => Train Loss: 0.9467, Train Accuracy: 0.7401, Val Loss: 0.3689, Val Accuracy: 0.8937\n"
     ]
    },
    {
     "name": "stderr",
     "output_type": "stream",
     "text": [
      "Training Epoch 12/50: 100%|██████████| 302/302 [02:14<00:00,  2.24it/s]\n"
     ]
    },
    {
     "name": "stdout",
     "output_type": "stream",
     "text": [
      "Epoch 12/50 => Train Loss: 0.9326, Train Accuracy: 0.7451, Val Loss: 0.3982, Val Accuracy: 0.8879\n"
     ]
    },
    {
     "name": "stderr",
     "output_type": "stream",
     "text": [
      "Training Epoch 13/50: 100%|██████████| 302/302 [02:14<00:00,  2.24it/s]\n"
     ]
    },
    {
     "name": "stdout",
     "output_type": "stream",
     "text": [
      "Epoch 13/50 => Train Loss: 0.9501, Train Accuracy: 0.7409, Val Loss: 0.3783, Val Accuracy: 0.8952\n"
     ]
    },
    {
     "name": "stderr",
     "output_type": "stream",
     "text": [
      "Training Epoch 14/50: 100%|██████████| 302/302 [02:14<00:00,  2.24it/s]\n"
     ]
    },
    {
     "name": "stdout",
     "output_type": "stream",
     "text": [
      "Epoch 14/50 => Train Loss: 0.9494, Train Accuracy: 0.7358, Val Loss: 0.4100, Val Accuracy: 0.8874\n"
     ]
    },
    {
     "name": "stderr",
     "output_type": "stream",
     "text": [
      "Training Epoch 15/50: 100%|██████████| 302/302 [02:15<00:00,  2.24it/s]\n"
     ]
    },
    {
     "name": "stdout",
     "output_type": "stream",
     "text": [
      "Epoch 15/50 => Train Loss: 0.9460, Train Accuracy: 0.7403, Val Loss: 0.3551, Val Accuracy: 0.8942\n"
     ]
    },
    {
     "name": "stderr",
     "output_type": "stream",
     "text": [
      "Training Epoch 16/50: 100%|██████████| 302/302 [02:14<00:00,  2.24it/s]\n"
     ]
    },
    {
     "name": "stdout",
     "output_type": "stream",
     "text": [
      "Epoch 16/50 => Train Loss: 0.9149, Train Accuracy: 0.7436, Val Loss: 0.3758, Val Accuracy: 0.8976\n"
     ]
    },
    {
     "name": "stderr",
     "output_type": "stream",
     "text": [
      "Training Epoch 17/50: 100%|██████████| 302/302 [02:15<00:00,  2.24it/s]\n"
     ]
    },
    {
     "name": "stdout",
     "output_type": "stream",
     "text": [
      "Epoch 17/50 => Train Loss: 0.9380, Train Accuracy: 0.7392, Val Loss: 0.4712, Val Accuracy: 0.8749\n"
     ]
    },
    {
     "name": "stderr",
     "output_type": "stream",
     "text": [
      "Training Epoch 18/50: 100%|██████████| 302/302 [02:14<00:00,  2.24it/s]\n"
     ]
    },
    {
     "name": "stdout",
     "output_type": "stream",
     "text": [
      "Epoch 18/50 => Train Loss: 0.9156, Train Accuracy: 0.7499, Val Loss: 0.4159, Val Accuracy: 0.8884\n"
     ]
    },
    {
     "name": "stderr",
     "output_type": "stream",
     "text": [
      "Training Epoch 19/50: 100%|██████████| 302/302 [02:14<00:00,  2.24it/s]\n"
     ]
    },
    {
     "name": "stdout",
     "output_type": "stream",
     "text": [
      "Epoch 19/50 => Train Loss: 0.9100, Train Accuracy: 0.7502, Val Loss: 0.3543, Val Accuracy: 0.9014\n"
     ]
    },
    {
     "name": "stderr",
     "output_type": "stream",
     "text": [
      "Training Epoch 20/50: 100%|██████████| 302/302 [02:14<00:00,  2.24it/s]\n"
     ]
    },
    {
     "name": "stdout",
     "output_type": "stream",
     "text": [
      "Epoch 20/50 => Train Loss: 0.8925, Train Accuracy: 0.7553, Val Loss: 0.3775, Val Accuracy: 0.8952\n"
     ]
    },
    {
     "name": "stderr",
     "output_type": "stream",
     "text": [
      "Training Epoch 21/50: 100%|██████████| 302/302 [02:14<00:00,  2.24it/s]\n"
     ]
    },
    {
     "name": "stdout",
     "output_type": "stream",
     "text": [
      "Epoch 21/50 => Train Loss: 0.9160, Train Accuracy: 0.7460, Val Loss: 0.3865, Val Accuracy: 0.8913\n"
     ]
    },
    {
     "name": "stderr",
     "output_type": "stream",
     "text": [
      "Training Epoch 22/50: 100%|██████████| 302/302 [02:14<00:00,  2.24it/s]\n"
     ]
    },
    {
     "name": "stdout",
     "output_type": "stream",
     "text": [
      "Epoch 22/50 => Train Loss: 0.9067, Train Accuracy: 0.7462, Val Loss: 0.3658, Val Accuracy: 0.8986\n"
     ]
    },
    {
     "name": "stderr",
     "output_type": "stream",
     "text": [
      "Training Epoch 23/50: 100%|██████████| 302/302 [02:14<00:00,  2.24it/s]\n"
     ]
    },
    {
     "name": "stdout",
     "output_type": "stream",
     "text": [
      "Epoch 23/50 => Train Loss: 0.9066, Train Accuracy: 0.7506, Val Loss: 0.3782, Val Accuracy: 0.8913\n"
     ]
    },
    {
     "name": "stderr",
     "output_type": "stream",
     "text": [
      "Training Epoch 24/50: 100%|██████████| 302/302 [02:15<00:00,  2.24it/s]\n"
     ]
    },
    {
     "name": "stdout",
     "output_type": "stream",
     "text": [
      "Early stopping triggered\n"
     ]
    }
   ],
   "source": [
    "model, train_losses, val_losses, train_accuracies, val_accuracies = train(\n",
    "    model, train_loader, val_loader, optimizer, criterion, num_epochs=50, patience=5\n",
    ")\n"
   ]
  },
  {
   "cell_type": "code",
   "execution_count": null,
   "metadata": {},
   "outputs": [
    {
     "name": "stdout",
     "output_type": "stream",
     "text": [
      "Test Accuracy: 0.8932\n"
     ]
    },
    {
     "data": {
      "image/png": "[encoded data removed]",
      "text/plain": [
       "<Figure size 1200x600 with 2 Axes>"
      ]
     },
     "metadata": {},
     "output_type": "display_data"
    }
   ],
   "source": [
    "model.eval()\n",
    "\n",
    "correct_preds = 0\n",
    "total_preds = 0\n",
    "\n",
    "\n",
    "with torch.no_grad():\n",
    "    for inputs, labels in test_loader:\n",
    "        inputs, labels = inputs.to(device), labels.to(device)\n",
    "        outputs = model(inputs)\n",
    "        _, preds = torch.max(outputs, 1)\n",
    "        correct_preds += torch.sum(preds == labels.data)\n",
    "        total_preds += labels.size(0)\n",
    "\n",
    "\n",
    "test_accuracy = correct_preds.double().cpu().item() / total_preds\n",
    "print(f\"Test Accuracy: {test_accuracy:.4f}\")\n",
    "\n",
    "torch.save(model.state_dict(), \"efficientnetb0_leaf_model.pth\")\n",
    "\n",
    "def to_numpy(tensor):\n",
    "    if isinstance(tensor, torch.Tensor):\n",
    "        return tensor.detach().cpu().numpy()  \n",
    "    return tensor  \n",
    "epochs = range(1, len(train_losses) + 1)\n",
    "\n",
    "plt.figure(figsize=(12, 6))\n",
    "\n",
    "plt.subplot(1, 2, 1)\n",
    "plt.plot(epochs, to_numpy(torch.tensor(train_losses)), label='Train Loss')\n",
    "plt.plot(epochs, to_numpy(torch.tensor(val_losses)), label='Validation Loss')\n",
    "plt.title('Loss over Epochs')\n",
    "plt.xlabel('Epoch')\n",
    "plt.ylabel('Loss')\n",
    "plt.legend()\n",
    "\n",
    "plt.subplot(1, 2, 2)\n",
    "plt.plot(epochs, to_numpy(torch.tensor(train_accuracies)), label='Train Accuracy')\n",
    "plt.plot(epochs, to_numpy(torch.tensor(val_accuracies)), label='Validation Accuracy')\n",
    "plt.title('Accuracy over Epochs')\n",
    "plt.xlabel('Epoch')\n",
    "plt.ylabel('Accuracy')\n",
    "plt.legend()\n",
    "\n",
    "plt.show()\n"
   ]
  },
  {
   "cell_type": "code",
   "execution_count": null,
   "metadata": {},
   "outputs": [],
   "source": [
    "model.eval()\n",
    "\n",
    "all_preds = []\n",
    "all_labels = []\n",
    "\n",
    "with torch.no_grad():\n",
    "    for inputs, labels in test_loader:\n",
    "        inputs, labels = inputs.to(device), labels.to(device)\n",
    "        outputs = model(inputs)\n",
    "        _, preds = torch.max(outputs, 1)\n",
    "        \n",
    "        all_preds.extend(preds.cpu().numpy())\n",
    "        all_labels.extend(labels.cpu().numpy())\n",
    "\n",
    "all_preds = np.array(all_preds)\n",
    "all_labels = np.array(all_labels)"
   ]
  },
  {
   "cell_type": "code",
   "execution_count": null,
   "metadata": {},
   "outputs": [
    {
     "name": "stdout",
     "output_type": "stream",
     "text": [
      "Accuracy: 0.8787\n",
      "Precision: 0.8841\n",
      "Recall: 0.8798\n",
      "F1-score: 0.8790\n",
      "\n",
      "Classification Report:\n",
      "               precision    recall  f1-score   support\n",
      "\n",
      "           0       0.97      0.95      0.96        37\n",
      "           1       0.81      0.81      0.81        21\n",
      "           2       0.85      0.89      0.87        38\n",
      "           3       0.92      1.00      0.96        24\n",
      "           4       0.86      0.89      0.87        27\n",
      "           5       0.83      0.77      0.80        26\n",
      "           6       0.90      0.75      0.82        12\n",
      "           7       0.92      0.88      0.90        40\n",
      "           8       0.96      0.86      0.91        28\n",
      "           9       0.90      0.97      0.93        29\n",
      "          10       0.88      0.76      0.82        38\n",
      "          11       0.94      0.88      0.91        17\n",
      "          12       0.91      0.95      0.93        21\n",
      "          13       1.00      0.89      0.94        44\n",
      "          14       0.95      0.95      0.95        39\n",
      "          15       1.00      0.81      0.90        16\n",
      "          16       0.77      0.89      0.83        19\n",
      "          17       0.74      0.74      0.74        23\n",
      "          18       0.79      0.90      0.84        30\n",
      "          19       0.95      0.91      0.93        23\n",
      "          20       0.86      0.95      0.90        44\n",
      "          21       0.85      0.75      0.80        52\n",
      "          22       0.97      0.88      0.92        33\n",
      "          23       0.69      0.90      0.78        10\n",
      "          24       0.89      0.89      0.89        18\n",
      "          25       0.96      0.96      0.96        25\n",
      "          26       0.92      0.96      0.94        25\n",
      "          27       0.89      0.85      0.87        20\n",
      "          28       0.88      0.88      0.88        26\n",
      "          29       0.86      1.00      0.92        24\n",
      "          30       0.91      0.88      0.89        24\n",
      "          31       0.86      0.90      0.88        41\n",
      "          32       0.85      0.81      0.83        21\n",
      "          33       0.92      0.90      0.91        40\n",
      "          34       0.97      0.82      0.89        38\n",
      "          35       0.78      1.00      0.88        28\n",
      "          36       0.91      0.91      0.91        32\n",
      "          37       0.87      0.81      0.84        16\n",
      "          38       0.94      1.00      0.97        16\n",
      "          39       1.00      0.88      0.94        17\n",
      "          40       1.00      0.91      0.95        23\n",
      "          41       1.00      0.73      0.85        15\n",
      "          42       0.70      0.79      0.74        33\n",
      "          43       1.00      1.00      1.00         4\n",
      "          44       0.67      0.83      0.74        12\n",
      "          45       0.91      0.84      0.88        25\n",
      "          46       0.90      0.84      0.87        31\n",
      "          47       0.95      0.68      0.79        28\n",
      "          48       0.78      0.84      0.81        43\n",
      "          49       0.88      0.88      0.88        40\n",
      "          50       0.79      0.82      0.81        28\n",
      "          51       0.94      0.84      0.89        19\n",
      "          52       0.90      0.90      0.90        20\n",
      "          53       0.79      0.97      0.87        32\n",
      "          54       0.79      0.88      0.83        25\n",
      "          55       0.88      0.93      0.90        40\n",
      "          56       0.87      0.93      0.90        29\n",
      "          57       0.77      0.92      0.84        25\n",
      "          58       0.91      1.00      0.95        10\n",
      "          59       1.00      1.00      1.00         2\n",
      "          60       0.96      0.92      0.94        26\n",
      "          61       1.00      0.90      0.95        30\n",
      "          62       0.77      0.91      0.83        11\n",
      "          63       0.90      0.97      0.93        29\n",
      "          64       0.89      0.73      0.80        11\n",
      "          65       0.78      0.78      0.78         9\n",
      "          66       0.79      0.69      0.73        16\n",
      "          67       0.81      0.88      0.84        33\n",
      "          68       1.00      0.88      0.93        24\n",
      "          69       0.84      0.98      0.91        44\n",
      "          70       0.94      0.80      0.86        20\n",
      "          71       0.91      0.91      0.91        34\n",
      "          72       0.85      0.92      0.88        24\n",
      "          73       0.88      0.92      0.90        24\n",
      "          74       0.90      0.77      0.83        56\n",
      "          75       0.89      0.89      0.89         9\n",
      "          76       0.93      0.83      0.88        30\n",
      "          77       0.90      0.95      0.92        19\n",
      "          78       0.81      0.95      0.88        22\n",
      "          79       0.92      0.92      0.92        13\n",
      "\n",
      "    accuracy                           0.88      2070\n",
      "   macro avg       0.88      0.88      0.88      2070\n",
      "weighted avg       0.88      0.88      0.88      2070\n",
      "\n"
     ]
    }
   ],
   "source": [
    "accuracy = accuracy_score(all_labels, all_preds)\n",
    "\n",
    "precision = precision_score(all_labels, all_preds, average='macro')\n",
    "recall = recall_score(all_labels, all_preds, average='macro')\n",
    "f1 = f1_score(all_labels, all_preds, average='macro')\n",
    "\n",
    "print(f\"Accuracy: {accuracy:.4f}\")\n",
    "print(f\"Precision: {precision:.4f}\")\n",
    "print(f\"Recall: {recall:.4f}\")\n",
    "print(f\"F1-score: {f1:.4f}\")\n",
    "\n",
    "print(\"\\nClassification Report:\\n\", classification_report(all_labels, all_preds))"
   ]
  }
 ],
 "metadata": {
  "kernelspec": {
   "display_name": "base",
   "language": "python",
   "name": "python3"
  },
  "language_info": {
   "codemirror_mode": {
    "name": "ipython",
    "version": 3
   },
   "file_extension": ".py",
   "mimetype": "text/x-python",
   "name": "python",
   "nbconvert_exporter": "python",
   "pygments_lexer": "ipython3",
   "version": "3.11.8"
  }
 },
 "nbformat": 4,
 "nbformat_minor": 2
}
