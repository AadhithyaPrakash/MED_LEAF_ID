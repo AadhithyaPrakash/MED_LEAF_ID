{
 "cells": [
  {
   "cell_type": "code",
   "execution_count": 2,
   "metadata": {},
   "outputs": [],
   "source": [
    "import os\n",
    "import numpy as np\n",
    "import tensorflow as tf\n",
    "from tensorflow.keras import layers, models, applications, optimizers, callbacks\n",
    "from sklearn.metrics import classification_report, confusion_matrix\n",
    "import matplotlib.pyplot as plt"
   ]
  },
  {
   "cell_type": "code",
   "execution_count": 31,
   "metadata": {},
   "outputs": [],
   "source": [
    "data_dir_original = r\"D:\\MED_LEAF_ID\\data\\cnn\\original\"\n",
    "data_dir_augmented = r\"D:\\MED_LEAF_ID\\data\\cnn\\augmented\"\n",
    "save_model_path = r\"D:\\MED_LEAF_ID\\models\\\\cnn.h5\"\n"
   ]
  },
  {
   "cell_type": "code",
   "execution_count": 4,
   "metadata": {},
   "outputs": [],
   "source": [
    "IMG_SIZE = (224, 224)  # Input size for EfficientNet\n",
    "BATCH_SIZE = 32\n",
    "EPOCHS = 50\n",
    "VALIDATION_SPLIT = 0.15  # 15% for validation\n",
    "TEST_SPLIT = 0.15  # 15% for testing"
   ]
  },
  {
   "cell_type": "code",
   "execution_count": 5,
   "metadata": {},
   "outputs": [],
   "source": [
    "def prepare_datasets(original_dir, augmented_dir):\n",
    "    # Load datasets\n",
    "    original_dataset = tf.keras.preprocessing.image_dataset_from_directory(\n",
    "        original_dir,\n",
    "        image_size=IMG_SIZE,\n",
    "        batch_size=BATCH_SIZE\n",
    "    )\n",
    "    augmented_dataset = tf.keras.preprocessing.image_dataset_from_directory(\n",
    "        augmented_dir,\n",
    "        image_size=IMG_SIZE,\n",
    "        batch_size=BATCH_SIZE\n",
    "    )\n",
    "\n",
    "    # Extract class names (assuming both have the same classes)\n",
    "    class_names = original_dataset.class_names\n",
    "\n",
    "    # Combine datasets\n",
    "    dataset = original_dataset.concatenate(augmented_dataset)\n",
    "\n",
    "    # Calculate split sizes\n",
    "    total_size = len(dataset)\n",
    "    val_size = int(VALIDATION_SPLIT * total_size)\n",
    "    test_size = int(TEST_SPLIT * total_size)\n",
    "    train_size = total_size - val_size - test_size\n",
    "\n",
    "    # Split the dataset\n",
    "    train_dataset = dataset.take(train_size)\n",
    "    val_test_dataset = dataset.skip(train_size)\n",
    "    val_dataset = val_test_dataset.take(val_size)\n",
    "    test_dataset = val_test_dataset.skip(val_size)\n",
    "\n",
    "    return train_dataset, val_dataset, test_dataset, class_names"
   ]
  },
  {
   "cell_type": "code",
   "execution_count": 6,
   "metadata": {},
   "outputs": [
    {
     "name": "stdout",
     "output_type": "stream",
     "text": [
      "Found 12812 files belonging to 90 classes.\n",
      "Found 5805 files belonging to 10 classes.\n"
     ]
    }
   ],
   "source": [
    "train_dataset, val_dataset, test_dataset, class_names = prepare_datasets(data_dir_original, data_dir_augmented)\n",
    "\n"
   ]
  },
  {
   "cell_type": "code",
   "execution_count": 7,
   "metadata": {},
   "outputs": [],
   "source": [
    "data_augmentation = tf.keras.Sequential([\n",
    "    layers.RandomFlip(\"horizontal\"),\n",
    "    layers.RandomRotation(0.2),\n",
    "    layers.RandomZoom(0.2),\n",
    "])"
   ]
  },
  {
   "cell_type": "code",
   "execution_count": 8,
   "metadata": {},
   "outputs": [],
   "source": [
    "preprocess_input = applications.efficientnet.preprocess_input"
   ]
  },
  {
   "cell_type": "code",
   "execution_count": 9,
   "metadata": {},
   "outputs": [],
   "source": [
    "base_model = applications.EfficientNetB0(include_top=False, input_shape=(IMG_SIZE[0], IMG_SIZE[1], 3), weights=\"imagenet\")\n",
    "base_model.trainable = False  # Freeze base model\n"
   ]
  },
  {
   "cell_type": "code",
   "execution_count": 11,
   "metadata": {},
   "outputs": [],
   "source": [
    "inputs = layers.Input(shape=(IMG_SIZE[0], IMG_SIZE[1], 3))\n",
    "x = data_augmentation(inputs)\n",
    "x = preprocess_input(x)\n",
    "x = base_model(x, training=False)\n",
    "x = layers.GlobalAveragePooling2D()(x)\n",
    "x = layers.Dropout(0.2)(x)  # Regularization\n",
    "outputs = layers.Dense(len(class_names), activation=\"softmax\")(x)\n",
    "model = models.Model(inputs, outputs)\n"
   ]
  },
  {
   "cell_type": "code",
   "execution_count": 12,
   "metadata": {},
   "outputs": [],
   "source": [
    "model.compile(\n",
    "    optimizer=optimizers.Adam(learning_rate=0.001),\n",
    "    loss=\"sparse_categorical_crossentropy\",\n",
    "    metrics=[\"accuracy\"]\n",
    ")"
   ]
  },
  {
   "cell_type": "code",
   "execution_count": 13,
   "metadata": {},
   "outputs": [
    {
     "name": "stdout",
     "output_type": "stream",
     "text": [
      "Epoch 1/50\n",
      "\u001b[1m409/409\u001b[0m \u001b[32m━━━━━━━━━━━━━━━━━━━━\u001b[0m\u001b[37m\u001b[0m \u001b[1m206s\u001b[0m 483ms/step - accuracy: 0.2823 - loss: 3.2409 - val_accuracy: 0.1394 - val_loss: 3.8737\n",
      "Epoch 2/50\n",
      "\u001b[1m409/409\u001b[0m \u001b[32m━━━━━━━━━━━━━━━━━━━━\u001b[0m\u001b[37m\u001b[0m \u001b[1m236s\u001b[0m 577ms/step - accuracy: 0.6513 - loss: 1.4725 - val_accuracy: 0.3333 - val_loss: 2.5155\n",
      "Epoch 3/50\n",
      "\u001b[1m409/409\u001b[0m \u001b[32m━━━━━━━━━━━━━━━━━━━━\u001b[0m\u001b[37m\u001b[0m \u001b[1m252s\u001b[0m 617ms/step - accuracy: 0.7412 - loss: 1.0896 - val_accuracy: 0.4249 - val_loss: 2.0485\n",
      "Epoch 4/50\n",
      "\u001b[1m409/409\u001b[0m \u001b[32m━━━━━━━━━━━━━━━━━━━━\u001b[0m\u001b[37m\u001b[0m \u001b[1m272s\u001b[0m 664ms/step - accuracy: 0.7895 - loss: 0.8717 - val_accuracy: 0.4838 - val_loss: 1.8021\n",
      "Epoch 5/50\n",
      "\u001b[1m409/409\u001b[0m \u001b[32m━━━━━━━━━━━━━━━━━━━━\u001b[0m\u001b[37m\u001b[0m \u001b[1m261s\u001b[0m 638ms/step - accuracy: 0.8146 - loss: 0.7531 - val_accuracy: 0.5550 - val_loss: 1.5519\n",
      "Epoch 6/50\n",
      "\u001b[1m409/409\u001b[0m \u001b[32m━━━━━━━━━━━━━━━━━━━━\u001b[0m\u001b[37m\u001b[0m \u001b[1m267s\u001b[0m 653ms/step - accuracy: 0.8355 - loss: 0.6679 - val_accuracy: 0.5851 - val_loss: 1.4762\n",
      "Epoch 7/50\n",
      "\u001b[1m409/409\u001b[0m \u001b[32m━━━━━━━━━━━━━━━━━━━━\u001b[0m\u001b[37m\u001b[0m \u001b[1m263s\u001b[0m 644ms/step - accuracy: 0.8481 - loss: 0.6084 - val_accuracy: 0.6110 - val_loss: 1.3624\n",
      "Epoch 8/50\n",
      "\u001b[1m409/409\u001b[0m \u001b[32m━━━━━━━━━━━━━━━━━━━━\u001b[0m\u001b[37m\u001b[0m \u001b[1m259s\u001b[0m 633ms/step - accuracy: 0.8565 - loss: 0.5698 - val_accuracy: 0.6185 - val_loss: 1.3191\n",
      "Epoch 9/50\n",
      "\u001b[1m409/409\u001b[0m \u001b[32m━━━━━━━━━━━━━━━━━━━━\u001b[0m\u001b[37m\u001b[0m \u001b[1m284s\u001b[0m 695ms/step - accuracy: 0.8666 - loss: 0.5211 - val_accuracy: 0.6390 - val_loss: 1.2165\n",
      "Epoch 10/50\n",
      "\u001b[1m409/409\u001b[0m \u001b[32m━━━━━━━━━━━━━━━━━━━━\u001b[0m\u001b[37m\u001b[0m \u001b[1m277s\u001b[0m 677ms/step - accuracy: 0.8787 - loss: 0.4819 - val_accuracy: 0.6555 - val_loss: 1.1480\n",
      "Epoch 11/50\n",
      "\u001b[1m409/409\u001b[0m \u001b[32m━━━━━━━━━━━━━━━━━━━━\u001b[0m\u001b[37m\u001b[0m \u001b[1m265s\u001b[0m 649ms/step - accuracy: 0.8807 - loss: 0.4517 - val_accuracy: 0.6667 - val_loss: 1.1059\n",
      "Epoch 12/50\n",
      "\u001b[1m409/409\u001b[0m \u001b[32m━━━━━━━━━━━━━━━━━━━━\u001b[0m\u001b[37m\u001b[0m \u001b[1m253s\u001b[0m 618ms/step - accuracy: 0.8912 - loss: 0.4154 - val_accuracy: 0.6832 - val_loss: 1.0556\n",
      "Epoch 13/50\n",
      "\u001b[1m409/409\u001b[0m \u001b[32m━━━━━━━━━━━━━━━━━━━━\u001b[0m\u001b[37m\u001b[0m \u001b[1m250s\u001b[0m 610ms/step - accuracy: 0.8897 - loss: 0.4094 - val_accuracy: 0.6825 - val_loss: 1.0586\n",
      "Epoch 14/50\n",
      "\u001b[1m409/409\u001b[0m \u001b[32m━━━━━━━━━━━━━━━━━━━━\u001b[0m\u001b[37m\u001b[0m \u001b[1m248s\u001b[0m 606ms/step - accuracy: 0.8888 - loss: 0.4031 - val_accuracy: 0.7134 - val_loss: 0.9600\n",
      "Epoch 15/50\n",
      "\u001b[1m409/409\u001b[0m \u001b[32m━━━━━━━━━━━━━━━━━━━━\u001b[0m\u001b[37m\u001b[0m \u001b[1m249s\u001b[0m 609ms/step - accuracy: 0.8956 - loss: 0.3843 - val_accuracy: 0.7069 - val_loss: 0.9758\n",
      "Epoch 16/50\n",
      "\u001b[1m409/409\u001b[0m \u001b[32m━━━━━━━━━━━━━━━━━━━━\u001b[0m\u001b[37m\u001b[0m \u001b[1m250s\u001b[0m 611ms/step - accuracy: 0.9052 - loss: 0.3684 - val_accuracy: 0.7148 - val_loss: 0.9843\n",
      "Epoch 17/50\n",
      "\u001b[1m409/409\u001b[0m \u001b[32m━━━━━━━━━━━━━━━━━━━━\u001b[0m\u001b[37m\u001b[0m \u001b[1m244s\u001b[0m 597ms/step - accuracy: 0.9098 - loss: 0.3500 - val_accuracy: 0.7166 - val_loss: 0.9880\n",
      "Epoch 18/50\n",
      "\u001b[1m409/409\u001b[0m \u001b[32m━━━━━━━━━━━━━━━━━━━━\u001b[0m\u001b[37m\u001b[0m \u001b[1m245s\u001b[0m 599ms/step - accuracy: 0.9057 - loss: 0.3429 - val_accuracy: 0.7238 - val_loss: 0.9338\n",
      "Epoch 19/50\n",
      "\u001b[1m409/409\u001b[0m \u001b[32m━━━━━━━━━━━━━━━━━━━━\u001b[0m\u001b[37m\u001b[0m \u001b[1m248s\u001b[0m 606ms/step - accuracy: 0.9101 - loss: 0.3376 - val_accuracy: 0.7295 - val_loss: 0.9218\n",
      "Epoch 20/50\n",
      "\u001b[1m409/409\u001b[0m \u001b[32m━━━━━━━━━━━━━━━━━━━━\u001b[0m\u001b[37m\u001b[0m \u001b[1m248s\u001b[0m 606ms/step - accuracy: 0.9086 - loss: 0.3263 - val_accuracy: 0.7331 - val_loss: 0.8965\n",
      "Epoch 21/50\n",
      "\u001b[1m409/409\u001b[0m \u001b[32m━━━━━━━━━━━━━━━━━━━━\u001b[0m\u001b[37m\u001b[0m \u001b[1m243s\u001b[0m 594ms/step - accuracy: 0.9107 - loss: 0.3162 - val_accuracy: 0.7306 - val_loss: 0.8840\n",
      "Epoch 22/50\n",
      "\u001b[1m409/409\u001b[0m \u001b[32m━━━━━━━━━━━━━━━━━━━━\u001b[0m\u001b[37m\u001b[0m \u001b[1m262s\u001b[0m 640ms/step - accuracy: 0.9164 - loss: 0.3005 - val_accuracy: 0.7468 - val_loss: 0.8549\n",
      "Epoch 23/50\n",
      "\u001b[1m409/409\u001b[0m \u001b[32m━━━━━━━━━━━━━━━━━━━━\u001b[0m\u001b[37m\u001b[0m \u001b[1m279s\u001b[0m 683ms/step - accuracy: 0.9124 - loss: 0.3109 - val_accuracy: 0.7317 - val_loss: 0.8966\n",
      "Epoch 24/50\n",
      "\u001b[1m409/409\u001b[0m \u001b[32m━━━━━━━━━━━━━━━━━━━━\u001b[0m\u001b[37m\u001b[0m \u001b[1m284s\u001b[0m 695ms/step - accuracy: 0.9187 - loss: 0.2949 - val_accuracy: 0.7478 - val_loss: 0.8734\n",
      "Epoch 25/50\n",
      "\u001b[1m409/409\u001b[0m \u001b[32m━━━━━━━━━━━━━━━━━━━━\u001b[0m\u001b[37m\u001b[0m \u001b[1m276s\u001b[0m 676ms/step - accuracy: 0.9128 - loss: 0.3062 - val_accuracy: 0.7410 - val_loss: 0.8655\n",
      "Epoch 26/50\n",
      "\u001b[1m409/409\u001b[0m \u001b[32m━━━━━━━━━━━━━━━━━━━━\u001b[0m\u001b[37m\u001b[0m \u001b[1m268s\u001b[0m 655ms/step - accuracy: 0.9147 - loss: 0.2974 - val_accuracy: 0.7496 - val_loss: 0.8211\n",
      "Epoch 27/50\n",
      "\u001b[1m409/409\u001b[0m \u001b[32m━━━━━━━━━━━━━━━━━━━━\u001b[0m\u001b[37m\u001b[0m \u001b[1m256s\u001b[0m 626ms/step - accuracy: 0.9221 - loss: 0.2880 - val_accuracy: 0.7356 - val_loss: 0.8466\n",
      "Epoch 28/50\n",
      "\u001b[1m409/409\u001b[0m \u001b[32m━━━━━━━━━━━━━━━━━━━━\u001b[0m\u001b[37m\u001b[0m \u001b[1m253s\u001b[0m 617ms/step - accuracy: 0.9197 - loss: 0.2777 - val_accuracy: 0.7385 - val_loss: 0.8952\n",
      "Epoch 29/50\n",
      "\u001b[1m409/409\u001b[0m \u001b[32m━━━━━━━━━━━━━━━━━━━━\u001b[0m\u001b[37m\u001b[0m \u001b[1m250s\u001b[0m 613ms/step - accuracy: 0.9218 - loss: 0.2731 - val_accuracy: 0.7604 - val_loss: 0.7793\n",
      "Epoch 30/50\n",
      "\u001b[1m409/409\u001b[0m \u001b[32m━━━━━━━━━━━━━━━━━━━━\u001b[0m\u001b[37m\u001b[0m \u001b[1m247s\u001b[0m 603ms/step - accuracy: 0.9171 - loss: 0.2721 - val_accuracy: 0.7586 - val_loss: 0.8052\n",
      "Epoch 31/50\n",
      "\u001b[1m409/409\u001b[0m \u001b[32m━━━━━━━━━━━━━━━━━━━━\u001b[0m\u001b[37m\u001b[0m \u001b[1m240s\u001b[0m 586ms/step - accuracy: 0.9260 - loss: 0.2534 - val_accuracy: 0.7665 - val_loss: 0.7844\n",
      "Epoch 32/50\n",
      "\u001b[1m409/409\u001b[0m \u001b[32m━━━━━━━━━━━━━━━━━━━━\u001b[0m\u001b[37m\u001b[0m \u001b[1m241s\u001b[0m 589ms/step - accuracy: 0.9229 - loss: 0.2638 - val_accuracy: 0.7482 - val_loss: 0.8491\n",
      "Epoch 33/50\n",
      "\u001b[1m409/409\u001b[0m \u001b[32m━━━━━━━━━━━━━━━━━━━━\u001b[0m\u001b[37m\u001b[0m \u001b[1m244s\u001b[0m 597ms/step - accuracy: 0.9256 - loss: 0.2645 - val_accuracy: 0.7647 - val_loss: 0.7787\n",
      "Epoch 34/50\n",
      "\u001b[1m409/409\u001b[0m \u001b[32m━━━━━━━━━━━━━━━━━━━━\u001b[0m\u001b[37m\u001b[0m \u001b[1m243s\u001b[0m 594ms/step - accuracy: 0.9278 - loss: 0.2537 - val_accuracy: 0.7780 - val_loss: 0.7411\n",
      "Epoch 35/50\n",
      "\u001b[1m409/409\u001b[0m \u001b[32m━━━━━━━━━━━━━━━━━━━━\u001b[0m\u001b[37m\u001b[0m \u001b[1m240s\u001b[0m 586ms/step - accuracy: 0.9239 - loss: 0.2592 - val_accuracy: 0.7694 - val_loss: 0.7888\n",
      "Epoch 36/50\n",
      "\u001b[1m409/409\u001b[0m \u001b[32m━━━━━━━━━━━━━━━━━━━━\u001b[0m\u001b[37m\u001b[0m \u001b[1m238s\u001b[0m 582ms/step - accuracy: 0.9300 - loss: 0.2340 - val_accuracy: 0.7636 - val_loss: 0.7905\n",
      "Epoch 37/50\n",
      "\u001b[1m409/409\u001b[0m \u001b[32m━━━━━━━━━━━━━━━━━━━━\u001b[0m\u001b[37m\u001b[0m \u001b[1m238s\u001b[0m 581ms/step - accuracy: 0.9205 - loss: 0.2625 - val_accuracy: 0.7475 - val_loss: 0.8737\n",
      "Epoch 38/50\n",
      "\u001b[1m409/409\u001b[0m \u001b[32m━━━━━━━━━━━━━━━━━━━━\u001b[0m\u001b[37m\u001b[0m \u001b[1m261s\u001b[0m 638ms/step - accuracy: 0.9289 - loss: 0.2421 - val_accuracy: 0.7680 - val_loss: 0.7789\n",
      "Epoch 39/50\n",
      "\u001b[1m409/409\u001b[0m \u001b[32m━━━━━━━━━━━━━━━━━━━━\u001b[0m\u001b[37m\u001b[0m \u001b[1m247s\u001b[0m 605ms/step - accuracy: 0.9239 - loss: 0.2527 - val_accuracy: 0.7708 - val_loss: 0.7924\n"
     ]
    }
   ],
   "source": [
    "early_stopping = callbacks.EarlyStopping(monitor=\"val_loss\", patience=5, restore_best_weights=True)\n",
    "\n",
    "# Train the model\n",
    "history = model.fit(\n",
    "    train_dataset,\n",
    "    validation_data=val_dataset,\n",
    "    epochs=EPOCHS,\n",
    "    callbacks=[early_stopping]\n",
    ")\n"
   ]
  },
  {
   "cell_type": "code",
   "execution_count": 14,
   "metadata": {},
   "outputs": [
    {
     "name": "stdout",
     "output_type": "stream",
     "text": [
      "\u001b[1m87/87\u001b[0m \u001b[32m━━━━━━━━━━━━━━━━━━━━\u001b[0m\u001b[37m\u001b[0m \u001b[1m39s\u001b[0m 403ms/step - accuracy: 0.7649 - loss: 0.7847\n",
      "\n",
      "Test Loss: 0.7587890028953552\n",
      "Test Accuracy: 0.7768535017967224\n"
     ]
    }
   ],
   "source": [
    "eval_results = model.evaluate(test_dataset)\n",
    "print(f\"\\nTest Loss: {eval_results[0]}\\nTest Accuracy: {eval_results[1]}\")\n"
   ]
  },
  {
   "cell_type": "code",
   "execution_count": 15,
   "metadata": {},
   "outputs": [
    {
     "name": "stdout",
     "output_type": "stream",
     "text": [
      "\u001b[1m87/87\u001b[0m \u001b[32m━━━━━━━━━━━━━━━━━━━━\u001b[0m\u001b[37m\u001b[0m \u001b[1m41s\u001b[0m 408ms/step\n"
     ]
    }
   ],
   "source": [
    "y_true = np.concatenate([y for x, y in test_dataset], axis=0)\n",
    "y_pred = np.argmax(model.predict(test_dataset), axis=-1)\n"
   ]
  },
  {
   "cell_type": "code",
   "execution_count": 21,
   "metadata": {},
   "outputs": [
    {
     "name": "stdout",
     "output_type": "stream",
     "text": [
      "Unique classes in test set: 10\n",
      "Class labels in test set: [0 1 2 3 4 5 6 7 8 9]\n",
      "Classification Report:\n",
      "               precision    recall  f1-score   support\n",
      "\n",
      "    Aloevera       0.12      0.09      0.10       274\n",
      "        Amla       0.11      0.10      0.11       259\n",
      "Amruthaballi       0.11      0.11      0.11       270\n",
      "       Arali       0.06      0.06      0.06       222\n",
      " Ashwagandha       0.29      0.26      0.27       685\n",
      "  Astma_weed       0.09      0.06      0.08       231\n",
      "     Avacado       0.06      0.07      0.06       214\n",
      "    Badipala       0.06      0.06      0.06       201\n",
      "Balloon_Vine       0.10      0.08      0.09       228\n",
      "      Bamboo       0.09      0.07      0.08       181\n",
      "\n",
      "   micro avg       0.14      0.12      0.13      2765\n",
      "   macro avg       0.11      0.10      0.10      2765\n",
      "weighted avg       0.14      0.12      0.13      2765\n",
      "\n"
     ]
    }
   ],
   "source": [
    "unique_classes = np.unique(y_true)\n",
    "print(f\"Unique classes in test set: {len(unique_classes)}\")\n",
    "print(f\"Class labels in test set: {unique_classes}\")\n",
    "\n",
    "unique_class_names = [class_names[i] for i in unique_classes]\n",
    "print(\"Classification Report:\\n\", classification_report(y_true, y_pred, labels=unique_classes, target_names=unique_class_names))\n",
    "\n"
   ]
  },
  {
   "cell_type": "code",
   "execution_count": 23,
   "metadata": {},
   "outputs": [
    {
     "name": "stdout",
     "output_type": "stream",
     "text": [
      "Confusion Matrix:\n",
      " [[24 28 24 ...  1  2  0]\n",
      " [29 27 22 ...  0  1  0]\n",
      " [21 29 29 ...  0  1  1]\n",
      " ...\n",
      " [ 0  0  0 ...  0  0  0]\n",
      " [ 0  0  0 ...  0  0  0]\n",
      " [ 0  0  0 ...  0  0  0]]\n"
     ]
    }
   ],
   "source": [
    "\n",
    "cm = confusion_matrix(y_true, y_pred)\n",
    "print(\"Confusion Matrix:\\n\", cm)\n"
   ]
  },
  {
   "cell_type": "code",
   "execution_count": 29,
   "metadata": {},
   "outputs": [
    {
     "name": "stderr",
     "output_type": "stream",
     "text": [
      "WARNING:absl:You are saving your model as an HDF5 file via `model.save()` or `keras.saving.save_model(model)`. This file format is considered legacy. We recommend using instead the native Keras format, e.g. `model.save('my_model.keras')` or `keras.saving.save_model(model, 'my_model.keras')`. \n"
     ]
    },
    {
     "name": "stdout",
     "output_type": "stream",
     "text": [
      "Model saved to D:\\MED_LEAF_ID\\models\\\\cnn.h5\n"
     ]
    }
   ],
   "source": [
    "model.save(save_model_path)\n",
    "print(f\"Model saved to {save_model_path}\")\n"
   ]
  },
  {
   "cell_type": "code",
   "execution_count": 17,
   "metadata": {},
   "outputs": [],
   "source": [
    "def plot_training_history(history):\n",
    "    plt.figure(figsize=(12, 4))\n",
    "\n",
    "    # Accuracy\n",
    "    plt.subplot(1, 2, 1)\n",
    "    plt.plot(history.history['accuracy'], label='Train Accuracy')\n",
    "    plt.plot(history.history['val_accuracy'], label='Validation Accuracy')\n",
    "    plt.title('Accuracy')\n",
    "    plt.xlabel('Epochs')\n",
    "    plt.ylabel('Accuracy')\n",
    "    plt.legend()\n",
    "\n",
    "    # Loss\n",
    "    plt.subplot(1, 2, 2)\n",
    "    plt.plot(history.history['loss'], label='Train Loss')\n",
    "    plt.plot(history.history['val_loss'], label='Validation Loss')\n",
    "    plt.title('Loss')\n",
    "    plt.xlabel('Epochs')\n",
    "    plt.ylabel('Loss')\n",
    "    plt.legend()\n",
    "\n",
    "    plt.show()\n"
   ]
  },
  {
   "cell_type": "code",
   "execution_count": 18,
   "metadata": {},
   "outputs": [
    {
     "data": {
      "image/png": "[encoded data removed]",
      "text/plain": [
       "<Figure size 1200x400 with 2 Axes>"
      ]
     },
     "metadata": {},
     "output_type": "display_data"
    }
   ],
   "source": [
    "plot_training_history(history)"
   ]
  },
  {
   "cell_type": "code",
   "execution_count": null,
   "metadata": {},
   "outputs": [
    {
     "ename": "NameError",
     "evalue": "name 'train_labels' is not defined",
     "output_type": "error",
     "traceback": [
      "\u001b[1;31m---------------------------------------------------------------------------\u001b[0m",
      "\u001b[1;31mNameError\u001b[0m                                 Traceback (most recent call last)",
      "Cell \u001b[1;32mIn[30], line 7\u001b[0m\n\u001b[0;32m      2\u001b[0m \u001b[38;5;28;01mfrom\u001b[39;00m \u001b[38;5;21;01msklearn\u001b[39;00m\u001b[38;5;21;01m.\u001b[39;00m\u001b[38;5;21;01mutils\u001b[39;00m\u001b[38;5;21;01m.\u001b[39;00m\u001b[38;5;21;01mclass_weight\u001b[39;00m \u001b[38;5;28;01mimport\u001b[39;00m compute_class_weight\n\u001b[0;32m      3\u001b[0m \u001b[38;5;28;01mimport\u001b[39;00m \u001b[38;5;21;01mnumpy\u001b[39;00m \u001b[38;5;28;01mas\u001b[39;00m \u001b[38;5;21;01mnp\u001b[39;00m\n\u001b[0;32m      5\u001b[0m class_weights \u001b[38;5;241m=\u001b[39m compute_class_weight(\n\u001b[0;32m      6\u001b[0m     \u001b[38;5;124m'\u001b[39m\u001b[38;5;124mbalanced\u001b[39m\u001b[38;5;124m'\u001b[39m, \n\u001b[1;32m----> 7\u001b[0m     classes\u001b[38;5;241m=\u001b[39mnp\u001b[38;5;241m.\u001b[39munique(\u001b[43mtrain_labels\u001b[49m), \n\u001b[0;32m      8\u001b[0m     y\u001b[38;5;241m=\u001b[39mtrain_labels\n\u001b[0;32m      9\u001b[0m )\n\u001b[0;32m     10\u001b[0m class_weights \u001b[38;5;241m=\u001b[39m \u001b[38;5;28mdict\u001b[39m(\u001b[38;5;28menumerate\u001b[39m(class_weights))\n\u001b[0;32m     12\u001b[0m \u001b[38;5;66;03m# Pass to model.fit()\u001b[39;00m\n",
      "\u001b[1;31mNameError\u001b[0m: name 'train_labels' is not defined"
     ]
    }
   ],
   "source": []
  }
 ],
 "metadata": {
  "kernelspec": {
   "display_name": ".venv",
   "language": "python",
   "name": "python3"
  },
  "language_info": {
   "codemirror_mode": {
    "name": "ipython",
    "version": 3
   },
   "file_extension": ".py",
   "mimetype": "text/x-python",
   "name": "python",
   "nbconvert_exporter": "python",
   "pygments_lexer": "ipython3",
   "version": "3.11.6"
  }
 },
 "nbformat": 4,
 "nbformat_minor": 2
}
