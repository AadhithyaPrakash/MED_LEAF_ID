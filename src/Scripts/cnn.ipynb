{
 "cells": [
  {
   "cell_type": "code",
   "execution_count": 14,
   "metadata": {},
   "outputs": [],
   "source": [
    "import torch\n",
    "import torch.nn as nn\n",
    "import torch.optim as optim\n",
    "import torchvision\n",
    "from torchvision import datasets, transforms\n",
    "from torch.utils.data import DataLoader, Subset\n",
    "from sklearn.utils.class_weight import compute_class_weight\n",
    "from sklearn.metrics import classification_report, confusion_matrix\n",
    "import matplotlib.pyplot as plt\n",
    "import numpy as np\n",
    "from tqdm import tqdm\n",
    "import os"
   ]
  },
  {
   "cell_type": "code",
   "execution_count": 15,
   "metadata": {},
   "outputs": [],
   "source": [
    "original_data_dir = r\"D:\\MED_LEAF_ID\\data\\cnn\\original\"\n",
    "augmented_data_dir =  r\"D:\\MED_LEAF_ID\\data\\cnn\\augmented\"\n"
   ]
  },
  {
   "cell_type": "code",
   "execution_count": 16,
   "metadata": {},
   "outputs": [],
   "source": [
    "train_transforms = transforms.Compose([\n",
    "    transforms.RandomResizedCrop(224),\n",
    "    transforms.RandomHorizontalFlip(),\n",
    "    transforms.RandomRotation(20),\n",
    "    transforms.ColorJitter(brightness=0.2, contrast=0.2, saturation=0.2, hue=0.2),\n",
    "    transforms.ToTensor(),\n",
    "    transforms.Normalize(mean=[0.485, 0.456, 0.406], std=[0.229, 0.224, 0.225]),  # ImageNet mean & std\n",
    "])\n"
   ]
  },
  {
   "cell_type": "code",
   "execution_count": 17,
   "metadata": {},
   "outputs": [],
   "source": [
    "val_test_transforms = transforms.Compose([\n",
    "    transforms.Resize(256),\n",
    "    transforms.CenterCrop(224),\n",
    "    transforms.ToTensor(),\n",
    "    transforms.Normalize(mean=[0.485, 0.456, 0.406], std=[0.229, 0.224, 0.225]),\n",
    "])"
   ]
  },
  {
   "cell_type": "code",
   "execution_count": 18,
   "metadata": {},
   "outputs": [],
   "source": [
    "# Loading datasets\n",
    "train_data = datasets.ImageFolder(root=original_data_dir, transform=train_transforms)\n",
    "augmented_data = datasets.ImageFolder(root=augmented_data_dir, transform=train_transforms)\n",
    "\n",
    "# Merging datasets\n",
    "full_train_data = torch.utils.data.ConcatDataset([train_data, augmented_data])\n",
    "\n",
    "# Split dataset into train, validation, and test sets\n",
    "train_size = int(0.7 * len(full_train_data))\n",
    "val_size = int(0.15 * len(full_train_data))\n",
    "test_size = len(full_train_data) - train_size - val_size\n",
    "\n",
    "train_dataset, val_dataset, test_dataset = torch.utils.data.random_split(full_train_data, [train_size, val_size, test_size])\n",
    "\n",
    "train_loader = DataLoader(train_dataset, batch_size=32, shuffle=True)\n",
    "val_loader = DataLoader(val_dataset, batch_size=32, shuffle=False)\n",
    "test_loader = DataLoader(test_dataset, batch_size=32, shuffle=False)\n"
   ]
  },
  {
   "cell_type": "code",
   "execution_count": 19,
   "metadata": {},
   "outputs": [],
   "source": [
    "class EfficientNetB0Classifier(nn.Module):\n",
    "    def __init__(self, num_classes):\n",
    "        super(EfficientNetB0Classifier, self).__init__()\n",
    "        self.base_model = torchvision.models.efficientnet_b0(pretrained=True)\n",
    "        self.base_model.classifier[1] = nn.Linear(self.base_model.classifier[1].in_features, num_classes)\n",
    "        self.base_model.classifier.add_module('dropout', nn.Dropout(0.2))  # Added dropout\n",
    "\n",
    "    def forward(self, x):\n",
    "        return self.base_model(x)"
   ]
  },
  {
   "cell_type": "code",
   "execution_count": 20,
   "metadata": {},
   "outputs": [
    {
     "name": "stderr",
     "output_type": "stream",
     "text": [
      "d:\\MED_LEAF_ID\\base\\Lib\\site-packages\\torchvision\\models\\_utils.py:208: UserWarning: The parameter 'pretrained' is deprecated since 0.13 and may be removed in the future, please use 'weights' instead.\n",
      "  warnings.warn(\n",
      "d:\\MED_LEAF_ID\\base\\Lib\\site-packages\\torchvision\\models\\_utils.py:223: UserWarning: Arguments other than a weight enum or `None` for 'weights' are deprecated since 0.13 and may be removed in the future. The current behavior is equivalent to passing `weights=EfficientNet_B0_Weights.IMAGENET1K_V1`. You can also use `weights=EfficientNet_B0_Weights.DEFAULT` to get the most up-to-date weights.\n",
      "  warnings.warn(msg)\n"
     ]
    },
    {
     "name": "stdout",
     "output_type": "stream",
     "text": [
      "cuda\n"
     ]
    }
   ],
   "source": [
    "num_classes = len(train_data.classes)\n",
    "model = EfficientNetB0Classifier(num_classes=num_classes)\n",
    "\n",
    "device = torch.device(\"cuda\" if torch.cuda.is_available() else \"cpu\")\n",
    "model = model.to(device)\n",
    "print(device)\n",
    "criterion = nn.CrossEntropyLoss()\n",
    "\n",
    "y_train = [label for _, label in train_dataset]\n",
    "class_weights = compute_class_weight('balanced', classes=np.unique(y_train), y=y_train)\n",
    "class_weights = torch.tensor(class_weights, dtype=torch.float32).to(device)\n",
    "\n",
    "optimizer = optim.Adam(model.parameters(), lr=0.001)"
   ]
  },
  {
   "cell_type": "code",
   "execution_count": 23,
   "metadata": {},
   "outputs": [],
   "source": [
    "def train(model, train_loader, val_loader, optimizer, criterion, num_epochs=30, patience=5):\n",
    "    best_val_loss = float('inf')\n",
    "    epochs_no_improve = 0\n",
    "    best_model_wts = model.state_dict()\n",
    "    \n",
    "    train_losses, val_losses, train_accuracies, val_accuracies = [], [], [], []\n",
    "\n",
    "    for epoch in range(num_epochs):\n",
    "        model.train()\n",
    "        running_loss = 0.0\n",
    "        correct_preds = 0\n",
    "        total_preds = 0\n",
    "\n",
    "        for inputs, labels in tqdm(train_loader, desc=f\"Training Epoch {epoch+1}/{num_epochs}\"):\n",
    "            inputs, labels = inputs.to(device), labels.to(device)\n",
    "\n",
    "            optimizer.zero_grad()\n",
    "            outputs = model(inputs)\n",
    "            loss = criterion(outputs, labels)\n",
    "            loss.backward()\n",
    "            optimizer.step()\n",
    "\n",
    "            running_loss += loss.item() * inputs.size(0)\n",
    "            _, preds = torch.max(outputs, 1)\n",
    "            correct_preds += torch.sum(preds == labels.data)\n",
    "            total_preds += labels.size(0)\n",
    "\n",
    "        epoch_loss = running_loss / len(train_loader.dataset)\n",
    "        epoch_acc = correct_preds.double() / total_preds\n",
    "\n",
    "        model.eval()\n",
    "        val_loss = 0.0\n",
    "        correct_preds = 0\n",
    "        total_preds = 0\n",
    "\n",
    "        with torch.no_grad():\n",
    "            for inputs, labels in val_loader:\n",
    "                inputs, labels = inputs.to(device), labels.to(device)\n",
    "                outputs = model(inputs)\n",
    "                loss = criterion(outputs, labels)\n",
    "                val_loss += loss.item() * inputs.size(0)\n",
    "                _, preds = torch.max(outputs, 1)\n",
    "                correct_preds += torch.sum(preds == labels.data)\n",
    "                total_preds += labels.size(0)\n",
    "\n",
    "        val_loss /= len(val_loader.dataset)\n",
    "        val_acc = correct_preds.double() / total_preds\n",
    "\n",
    "        if val_loss < best_val_loss:\n",
    "            best_val_loss = val_loss\n",
    "            best_model_wts = model.state_dict()\n",
    "            epochs_no_improve = 0\n",
    "        else:\n",
    "            epochs_no_improve += 1\n",
    "\n",
    "        if epochs_no_improve >= patience:\n",
    "            print(\"Early stopping triggered\")\n",
    "            break\n",
    "\n",
    "        train_losses.append(epoch_loss)\n",
    "        val_losses.append(val_loss)\n",
    "        train_accuracies.append(epoch_acc)\n",
    "        val_accuracies.append(val_acc)\n",
    "\n",
    "        print(f\"Epoch {epoch+1}/{num_epochs} => Train Loss: {epoch_loss:.4f}, Train Accuracy: {epoch_acc:.4f}, \"\n",
    "              f\"Val Loss: {val_loss:.4f}, Val Accuracy: {val_acc:.4f}\")\n",
    "\n",
    "    # Load best model weights\n",
    "    model.load_state_dict(best_model_wts)\n",
    "    return model, train_losses, val_losses, train_accuracies, val_accuracies\n"
   ]
  },
  {
   "cell_type": "code",
   "execution_count": 24,
   "metadata": {},
   "outputs": [
    {
     "name": "stdout",
     "output_type": "stream",
     "text": [
      "Labels in batch: [67 14 58 35 71 31  0 53 21 55]\n"
     ]
    }
   ],
   "source": [
    "for inputs, labels in train_loader:\n",
    "    print(\"Labels in batch:\", labels[:10].cpu().numpy())  # Check if labels are within range\n",
    "    break\n"
   ]
  },
  {
   "cell_type": "code",
   "execution_count": 25,
   "metadata": {},
   "outputs": [
    {
     "name": "stderr",
     "output_type": "stream",
     "text": [
      "Training Epoch 1/30:   0%|          | 0/302 [00:00<?, ?it/s]"
     ]
    },
    {
     "name": "stderr",
     "output_type": "stream",
     "text": [
      "Training Epoch 1/30: 100%|██████████| 302/302 [03:25<00:00,  1.47it/s]\n"
     ]
    },
    {
     "name": "stdout",
     "output_type": "stream",
     "text": [
      "Epoch 1/30 => Train Loss: 3.2919, Train Accuracy: 0.2393, Val Loss: 2.0551, Val Accuracy: 0.4560\n"
     ]
    },
    {
     "name": "stderr",
     "output_type": "stream",
     "text": [
      "Training Epoch 2/30: 100%|██████████| 302/302 [05:11<00:00,  1.03s/it]\n"
     ]
    },
    {
     "name": "stdout",
     "output_type": "stream",
     "text": [
      "Epoch 2/30 => Train Loss: 2.2496, Train Accuracy: 0.4512, Val Loss: 1.3951, Val Accuracy: 0.6266\n"
     ]
    },
    {
     "name": "stderr",
     "output_type": "stream",
     "text": [
      "Training Epoch 3/30: 100%|██████████| 302/302 [06:20<00:00,  1.26s/it]\n"
     ]
    },
    {
     "name": "stdout",
     "output_type": "stream",
     "text": [
      "Epoch 3/30 => Train Loss: 1.8884, Train Accuracy: 0.5346, Val Loss: 1.2726, Val Accuracy: 0.6531\n"
     ]
    },
    {
     "name": "stderr",
     "output_type": "stream",
     "text": [
      "Training Epoch 4/30: 100%|██████████| 302/302 [03:42<00:00,  1.36it/s]\n"
     ]
    },
    {
     "name": "stdout",
     "output_type": "stream",
     "text": [
      "Epoch 4/30 => Train Loss: 1.6834, Train Accuracy: 0.5817, Val Loss: 1.0287, Val Accuracy: 0.7198\n"
     ]
    },
    {
     "name": "stderr",
     "output_type": "stream",
     "text": [
      "Training Epoch 5/30: 100%|██████████| 302/302 [03:23<00:00,  1.48it/s]\n"
     ]
    },
    {
     "name": "stdout",
     "output_type": "stream",
     "text": [
      "Epoch 5/30 => Train Loss: 1.5821, Train Accuracy: 0.5993, Val Loss: 0.9065, Val Accuracy: 0.7449\n"
     ]
    },
    {
     "name": "stderr",
     "output_type": "stream",
     "text": [
      "Training Epoch 6/30: 100%|██████████| 302/302 [03:19<00:00,  1.52it/s]\n"
     ]
    },
    {
     "name": "stdout",
     "output_type": "stream",
     "text": [
      "Epoch 6/30 => Train Loss: 1.4874, Train Accuracy: 0.6258, Val Loss: 0.7908, Val Accuracy: 0.7720\n"
     ]
    },
    {
     "name": "stderr",
     "output_type": "stream",
     "text": [
      "Training Epoch 7/30: 100%|██████████| 302/302 [03:34<00:00,  1.41it/s]\n"
     ]
    },
    {
     "name": "stdout",
     "output_type": "stream",
     "text": [
      "Epoch 7/30 => Train Loss: 1.4097, Train Accuracy: 0.6438, Val Loss: 0.8112, Val Accuracy: 0.7729\n"
     ]
    },
    {
     "name": "stderr",
     "output_type": "stream",
     "text": [
      "Training Epoch 8/30: 100%|██████████| 302/302 [03:02<00:00,  1.66it/s]\n"
     ]
    },
    {
     "name": "stdout",
     "output_type": "stream",
     "text": [
      "Epoch 8/30 => Train Loss: 1.3904, Train Accuracy: 0.6430, Val Loss: 0.7445, Val Accuracy: 0.7976\n"
     ]
    },
    {
     "name": "stderr",
     "output_type": "stream",
     "text": [
      "Training Epoch 9/30: 100%|██████████| 302/302 [02:41<00:00,  1.87it/s]\n"
     ]
    },
    {
     "name": "stdout",
     "output_type": "stream",
     "text": [
      "Epoch 9/30 => Train Loss: 1.3031, Train Accuracy: 0.6653, Val Loss: 0.7197, Val Accuracy: 0.8019\n"
     ]
    },
    {
     "name": "stderr",
     "output_type": "stream",
     "text": [
      "Training Epoch 10/30: 100%|██████████| 302/302 [03:01<00:00,  1.67it/s]\n"
     ]
    },
    {
     "name": "stdout",
     "output_type": "stream",
     "text": [
      "Epoch 10/30 => Train Loss: 1.2828, Train Accuracy: 0.6697, Val Loss: 0.6532, Val Accuracy: 0.8193\n"
     ]
    },
    {
     "name": "stderr",
     "output_type": "stream",
     "text": [
      "Training Epoch 11/30: 100%|██████████| 302/302 [02:42<00:00,  1.86it/s]\n"
     ]
    },
    {
     "name": "stdout",
     "output_type": "stream",
     "text": [
      "Epoch 11/30 => Train Loss: 1.2569, Train Accuracy: 0.6738, Val Loss: 0.6519, Val Accuracy: 0.8121\n"
     ]
    },
    {
     "name": "stderr",
     "output_type": "stream",
     "text": [
      "Training Epoch 12/30: 100%|██████████| 302/302 [02:55<00:00,  1.73it/s]\n"
     ]
    },
    {
     "name": "stdout",
     "output_type": "stream",
     "text": [
      "Epoch 12/30 => Train Loss: 1.2186, Train Accuracy: 0.6860, Val Loss: 0.5921, Val Accuracy: 0.8285\n"
     ]
    },
    {
     "name": "stderr",
     "output_type": "stream",
     "text": [
      "Training Epoch 13/30: 100%|██████████| 302/302 [02:27<00:00,  2.05it/s]\n"
     ]
    },
    {
     "name": "stdout",
     "output_type": "stream",
     "text": [
      "Epoch 13/30 => Train Loss: 1.2281, Train Accuracy: 0.6855, Val Loss: 0.6351, Val Accuracy: 0.8300\n"
     ]
    },
    {
     "name": "stderr",
     "output_type": "stream",
     "text": [
      "Training Epoch 14/30: 100%|██████████| 302/302 [02:15<00:00,  2.24it/s]\n"
     ]
    },
    {
     "name": "stdout",
     "output_type": "stream",
     "text": [
      "Epoch 14/30 => Train Loss: 1.2193, Train Accuracy: 0.6826, Val Loss: 0.5897, Val Accuracy: 0.8415\n"
     ]
    },
    {
     "name": "stderr",
     "output_type": "stream",
     "text": [
      "Training Epoch 15/30: 100%|██████████| 302/302 [02:11<00:00,  2.30it/s]\n"
     ]
    },
    {
     "name": "stdout",
     "output_type": "stream",
     "text": [
      "Epoch 15/30 => Train Loss: 1.1746, Train Accuracy: 0.6934, Val Loss: 0.6272, Val Accuracy: 0.8256\n"
     ]
    },
    {
     "name": "stderr",
     "output_type": "stream",
     "text": [
      "Training Epoch 16/30: 100%|██████████| 302/302 [03:00<00:00,  1.67it/s]\n"
     ]
    },
    {
     "name": "stdout",
     "output_type": "stream",
     "text": [
      "Epoch 16/30 => Train Loss: 1.1404, Train Accuracy: 0.7012, Val Loss: 0.5394, Val Accuracy: 0.8541\n"
     ]
    },
    {
     "name": "stderr",
     "output_type": "stream",
     "text": [
      "Training Epoch 17/30: 100%|██████████| 302/302 [03:17<00:00,  1.53it/s]\n"
     ]
    },
    {
     "name": "stdout",
     "output_type": "stream",
     "text": [
      "Epoch 17/30 => Train Loss: 1.1482, Train Accuracy: 0.6984, Val Loss: 0.5321, Val Accuracy: 0.8498\n"
     ]
    },
    {
     "name": "stderr",
     "output_type": "stream",
     "text": [
      "Training Epoch 18/30: 100%|██████████| 302/302 [03:11<00:00,  1.58it/s]\n"
     ]
    },
    {
     "name": "stdout",
     "output_type": "stream",
     "text": [
      "Epoch 18/30 => Train Loss: 1.1137, Train Accuracy: 0.7040, Val Loss: 0.5189, Val Accuracy: 0.8556\n"
     ]
    },
    {
     "name": "stderr",
     "output_type": "stream",
     "text": [
      "Training Epoch 19/30: 100%|██████████| 302/302 [03:11<00:00,  1.58it/s]\n"
     ]
    },
    {
     "name": "stdout",
     "output_type": "stream",
     "text": [
      "Epoch 19/30 => Train Loss: 1.1392, Train Accuracy: 0.7009, Val Loss: 0.5489, Val Accuracy: 0.8449\n"
     ]
    },
    {
     "name": "stderr",
     "output_type": "stream",
     "text": [
      "Training Epoch 20/30: 100%|██████████| 302/302 [03:19<00:00,  1.52it/s]\n"
     ]
    },
    {
     "name": "stdout",
     "output_type": "stream",
     "text": [
      "Epoch 20/30 => Train Loss: 1.0994, Train Accuracy: 0.7119, Val Loss: 0.5392, Val Accuracy: 0.8556\n"
     ]
    },
    {
     "name": "stderr",
     "output_type": "stream",
     "text": [
      "Training Epoch 21/30: 100%|██████████| 302/302 [03:19<00:00,  1.52it/s]\n"
     ]
    },
    {
     "name": "stdout",
     "output_type": "stream",
     "text": [
      "Epoch 21/30 => Train Loss: 1.0952, Train Accuracy: 0.7133, Val Loss: 0.5433, Val Accuracy: 0.8517\n"
     ]
    },
    {
     "name": "stderr",
     "output_type": "stream",
     "text": [
      "Training Epoch 22/30: 100%|██████████| 302/302 [03:13<00:00,  1.56it/s]\n"
     ]
    },
    {
     "name": "stdout",
     "output_type": "stream",
     "text": [
      "Epoch 22/30 => Train Loss: 1.1274, Train Accuracy: 0.6995, Val Loss: 0.5252, Val Accuracy: 0.8541\n"
     ]
    },
    {
     "name": "stderr",
     "output_type": "stream",
     "text": [
      "Training Epoch 23/30: 100%|██████████| 302/302 [03:19<00:00,  1.51it/s]\n"
     ]
    },
    {
     "name": "stdout",
     "output_type": "stream",
     "text": [
      "Early stopping triggered\n"
     ]
    }
   ],
   "source": [
    "model, train_losses, val_losses, train_accuracies, val_accuracies = train(\n",
    "    model, train_loader, val_loader, optimizer, criterion, num_epochs=30, patience=5\n",
    ")\n"
   ]
  },
  {
   "cell_type": "code",
   "execution_count": 30,
   "metadata": {},
   "outputs": [
    {
     "name": "stdout",
     "output_type": "stream",
     "text": [
      "Test Accuracy: 0.8691\n"
     ]
    },
    {
     "data": {
      "image/png": "[encoded data removed]",
      "text/plain": [
       "<Figure size 1200x600 with 2 Axes>"
      ]
     },
     "metadata": {},
     "output_type": "display_data"
    }
   ],
   "source": [
    "import torch\n",
    "import matplotlib.pyplot as plt\n",
    "\n",
    "# Ensure the model is in evaluation mode\n",
    "model.eval()\n",
    "\n",
    "correct_preds = 0\n",
    "total_preds = 0\n",
    "\n",
    "# Disable gradient calculation for testing\n",
    "with torch.no_grad():\n",
    "    for inputs, labels in test_loader:\n",
    "        inputs, labels = inputs.to(device), labels.to(device)\n",
    "        outputs = model(inputs)\n",
    "        _, preds = torch.max(outputs, 1)\n",
    "        correct_preds += torch.sum(preds == labels.data)\n",
    "        total_preds += labels.size(0)\n",
    "\n",
    "# Convert test accuracy to float for better readability\n",
    "test_accuracy = correct_preds.double().cpu().item() / total_preds\n",
    "print(f\"Test Accuracy: {test_accuracy:.4f}\")\n",
    "\n",
    "# Save model weights\n",
    "torch.save(model.state_dict(), \"efficientnetb0_leaf_model.pth\")\n",
    "\n",
    "# Convert PyTorch tensors/lists to NumPy\n",
    "def to_numpy(tensor):\n",
    "    if isinstance(tensor, torch.Tensor):\n",
    "        return tensor.detach().cpu().numpy()  # Moves to CPU and converts to NumPy\n",
    "    return tensor  # If it's already a NumPy array or list, return as is\n",
    "\n",
    "epochs = range(1, len(train_losses) + 1)\n",
    "\n",
    "plt.figure(figsize=(12, 6))\n",
    "\n",
    "# Loss Plot\n",
    "plt.subplot(1, 2, 1)\n",
    "plt.plot(epochs, to_numpy(torch.tensor(train_losses)), label='Train Loss')\n",
    "plt.plot(epochs, to_numpy(torch.tensor(val_losses)), label='Validation Loss')\n",
    "plt.title('Loss over Epochs')\n",
    "plt.xlabel('Epoch')\n",
    "plt.ylabel('Loss')\n",
    "plt.legend()\n",
    "\n",
    "# Accuracy Plot\n",
    "plt.subplot(1, 2, 2)\n",
    "plt.plot(epochs, to_numpy(torch.tensor(train_accuracies)), label='Train Accuracy')\n",
    "plt.plot(epochs, to_numpy(torch.tensor(val_accuracies)), label='Validation Accuracy')\n",
    "plt.title('Accuracy over Epochs')\n",
    "plt.xlabel('Epoch')\n",
    "plt.ylabel('Accuracy')\n",
    "plt.legend()\n",
    "\n",
    "plt.show()\n"
   ]
  },
  {
   "cell_type": "code",
   "execution_count": 31,
   "metadata": {},
   "outputs": [],
   "source": [
    "import torch\n",
    "import numpy as np\n",
    "import matplotlib.pyplot as plt\n",
    "import seaborn as sns\n",
    "from sklearn.metrics import confusion_matrix, classification_report\n",
    "\n",
    "# Ensure model is in evaluation mode\n",
    "model.eval()\n",
    "\n",
    "all_preds = []\n",
    "all_labels = []\n",
    "\n",
    "with torch.no_grad():\n",
    "    for inputs, labels in test_loader:\n",
    "        inputs, labels = inputs.to(device), labels.to(device)\n",
    "        outputs = model(inputs)\n",
    "        _, preds = torch.max(outputs, 1)\n",
    "        \n",
    "        # Store predictions & true labels\n",
    "        all_preds.extend(preds.cpu().numpy())\n",
    "        all_labels.extend(labels.cpu().numpy())\n",
    "\n",
    "# Convert to NumPy arrays\n",
    "all_preds = np.array(all_preds)\n",
    "all_labels = np.array(all_labels)\n"
   ]
  },
  {
   "cell_type": "code",
   "execution_count": 32,
   "metadata": {},
   "outputs": [
    {
     "name": "stdout",
     "output_type": "stream",
     "text": [
      "Accuracy: 0.8565\n",
      "Precision: 0.8688\n",
      "Recall: 0.8567\n",
      "F1-score: 0.8562\n",
      "\n",
      "Classification Report:\n",
      "               precision    recall  f1-score   support\n",
      "\n",
      "           0       0.86      0.97      0.91        31\n",
      "           1       0.77      0.95      0.85        21\n",
      "           2       0.69      0.88      0.77        25\n",
      "           3       0.93      0.96      0.95        27\n",
      "           4       0.57      0.74      0.64        23\n",
      "           5       0.83      0.62      0.71        24\n",
      "           6       1.00      0.94      0.97        17\n",
      "           7       0.93      0.82      0.88        34\n",
      "           8       0.95      0.95      0.95        38\n",
      "           9       0.83      0.97      0.90        36\n",
      "          10       0.89      0.76      0.82        33\n",
      "          11       0.67      0.80      0.73        20\n",
      "          12       1.00      0.71      0.83        21\n",
      "          13       0.95      0.90      0.93        41\n",
      "          14       0.65      0.94      0.77        36\n",
      "          15       0.81      0.89      0.85        19\n",
      "          16       0.88      0.67      0.76        21\n",
      "          17       0.76      0.84      0.80        31\n",
      "          18       0.94      0.68      0.79        22\n",
      "          19       0.85      1.00      0.92        17\n",
      "          20       0.81      0.96      0.88        26\n",
      "          21       0.88      0.82      0.85        62\n",
      "          22       0.98      0.91      0.95        47\n",
      "          23       0.89      0.89      0.89        18\n",
      "          24       1.00      0.95      0.97        20\n",
      "          25       0.95      0.90      0.93        21\n",
      "          26       0.97      0.94      0.95        31\n",
      "          27       1.00      0.67      0.80        18\n",
      "          28       0.86      0.92      0.89        26\n",
      "          29       0.75      0.96      0.84        28\n",
      "          30       1.00      0.92      0.96        25\n",
      "          31       0.86      0.73      0.79        33\n",
      "          32       0.86      0.60      0.71        30\n",
      "          33       0.86      0.91      0.89        34\n",
      "          34       0.77      0.90      0.83        40\n",
      "          35       0.74      0.95      0.83        21\n",
      "          36       0.96      0.79      0.87        29\n",
      "          37       1.00      0.82      0.90        17\n",
      "          38       0.83      0.91      0.87        22\n",
      "          39       0.93      1.00      0.96        13\n",
      "          40       0.90      0.96      0.93        27\n",
      "          41       0.88      0.75      0.81        20\n",
      "          42       0.85      0.76      0.80        37\n",
      "          43       1.00      1.00      1.00         4\n",
      "          44       0.71      0.75      0.73        20\n",
      "          45       0.76      0.70      0.73        27\n",
      "          46       0.83      0.86      0.85        29\n",
      "          47       0.92      0.83      0.87        29\n",
      "          48       0.83      0.90      0.86        39\n",
      "          49       0.90      0.96      0.93        27\n",
      "          50       0.94      0.62      0.75        24\n",
      "          51       0.75      0.91      0.82        23\n",
      "          52       0.94      0.73      0.82        22\n",
      "          53       0.86      0.83      0.85        30\n",
      "          54       0.73      0.84      0.78        19\n",
      "          55       0.93      0.82      0.87        45\n",
      "          56       0.88      1.00      0.94        29\n",
      "          57       1.00      0.76      0.86        21\n",
      "          58       0.84      1.00      0.91        16\n",
      "          59       1.00      1.00      1.00         3\n",
      "          60       0.87      0.96      0.92        28\n",
      "          61       0.90      0.88      0.89        32\n",
      "          62       0.88      1.00      0.93         7\n",
      "          63       0.97      0.86      0.91        36\n",
      "          64       0.81      0.81      0.81        16\n",
      "          65       0.88      0.50      0.64        14\n",
      "          66       0.82      0.69      0.75        13\n",
      "          67       0.72      0.88      0.79        26\n",
      "          68       0.84      0.80      0.82        20\n",
      "          69       0.94      0.94      0.94        53\n",
      "          70       0.79      1.00      0.88        15\n",
      "          71       0.83      0.62      0.71        16\n",
      "          72       1.00      0.89      0.94        19\n",
      "          73       0.95      0.95      0.95        22\n",
      "          74       0.84      0.79      0.81        58\n",
      "          75       1.00      0.89      0.94         9\n",
      "          76       0.91      0.95      0.93        22\n",
      "          77       0.91      0.81      0.86        26\n",
      "          78       0.81      0.95      0.88        22\n",
      "          79       0.74      0.85      0.79        27\n",
      "\n",
      "    accuracy                           0.86      2070\n",
      "   macro avg       0.87      0.86      0.86      2070\n",
      "weighted avg       0.87      0.86      0.86      2070\n",
      "\n"
     ]
    }
   ],
   "source": [
    "from sklearn.metrics import accuracy_score, precision_score, recall_score, f1_score\n",
    "\n",
    "# Overall Accuracy\n",
    "accuracy = accuracy_score(all_labels, all_preds)\n",
    "\n",
    "# Precision, Recall, F1-score (macro and weighted)\n",
    "precision = precision_score(all_labels, all_preds, average='macro')\n",
    "recall = recall_score(all_labels, all_preds, average='macro')\n",
    "f1 = f1_score(all_labels, all_preds, average='macro')\n",
    "\n",
    "print(f\"Accuracy: {accuracy:.4f}\")\n",
    "print(f\"Precision: {precision:.4f}\")\n",
    "print(f\"Recall: {recall:.4f}\")\n",
    "print(f\"F1-score: {f1:.4f}\")\n",
    "\n",
    "# Full Classification Report\n",
    "print(\"\\nClassification Report:\\n\", classification_report(all_labels, all_preds))\n"
   ]
  }
 ],
 "metadata": {
  "kernelspec": {
   "display_name": "base",
   "language": "python",
   "name": "python3"
  },
  "language_info": {
   "codemirror_mode": {
    "name": "ipython",
    "version": 3
   },
   "file_extension": ".py",
   "mimetype": "text/x-python",
   "name": "python",
   "nbconvert_exporter": "python",
   "pygments_lexer": "ipython3",
   "version": "3.11.8"
  }
 },
 "nbformat": 4,
 "nbformat_minor": 2
}
