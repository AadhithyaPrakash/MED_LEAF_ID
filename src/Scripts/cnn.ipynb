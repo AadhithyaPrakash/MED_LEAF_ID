{
 "cells": [
  {
   "cell_type": "code",
   "execution_count": 1,
   "metadata": {},
   "outputs": [],
   "source": [
    "import torch\n",
    "import torch.nn as nn\n",
    "import torch.optim as optim\n",
    "import torchvision\n",
    "from torchvision import datasets, transforms\n",
    "from torch.utils.data import DataLoader, Subset\n",
    "from sklearn.utils.class_weight import compute_class_weight\n",
    "from sklearn.metrics import classification_report, confusion_matrix\n",
    "import matplotlib.pyplot as plt\n",
    "import numpy as np\n",
    "from tqdm import tqdm\n",
    "import os"
   ]
  },
  {
   "cell_type": "code",
   "execution_count": 3,
   "metadata": {},
   "outputs": [],
   "source": [
    "original_data_dir = r\"D:\\MED_LEAF_ID\\data\\cnn\\original\"\n",
    "augmented_data_dir =  r\"D:\\MED_LEAF_ID\\data\\cnn\\augmented\"\n"
   ]
  },
  {
   "cell_type": "code",
   "execution_count": 4,
   "metadata": {},
   "outputs": [],
   "source": [
    "train_transforms = transforms.Compose([\n",
    "    transforms.RandomResizedCrop(224),\n",
    "    transforms.RandomHorizontalFlip(),\n",
    "    transforms.RandomRotation(20),\n",
    "    transforms.ColorJitter(brightness=0.2, contrast=0.2, saturation=0.2, hue=0.2),\n",
    "    transforms.ToTensor(),\n",
    "    transforms.Normalize(mean=[0.485, 0.456, 0.406], std=[0.229, 0.224, 0.225]),  # ImageNet mean & std\n",
    "])\n"
   ]
  },
  {
   "cell_type": "code",
   "execution_count": 5,
   "metadata": {},
   "outputs": [],
   "source": [
    "val_test_transforms = transforms.Compose([\n",
    "    transforms.Resize(256),\n",
    "    transforms.CenterCrop(224),\n",
    "    transforms.ToTensor(),\n",
    "    transforms.Normalize(mean=[0.485, 0.456, 0.406], std=[0.229, 0.224, 0.225]),\n",
    "])"
   ]
  },
  {
   "cell_type": "code",
   "execution_count": 6,
   "metadata": {},
   "outputs": [],
   "source": [
    "# Loading datasets\n",
    "train_data = datasets.ImageFolder(root=original_data_dir, transform=train_transforms)\n",
    "augmented_data = datasets.ImageFolder(root=augmented_data_dir, transform=train_transforms)\n",
    "\n",
    "# Merging datasets\n",
    "full_train_data = torch.utils.data.ConcatDataset([train_data, augmented_data])\n",
    "\n",
    "# Split dataset into train, validation, and test sets\n",
    "train_size = int(0.7 * len(full_train_data))\n",
    "val_size = int(0.15 * len(full_train_data))\n",
    "test_size = len(full_train_data) - train_size - val_size\n",
    "\n",
    "train_dataset, val_dataset, test_dataset = torch.utils.data.random_split(full_train_data, [train_size, val_size, test_size])\n",
    "\n",
    "train_loader = DataLoader(train_dataset, batch_size=32, shuffle=True)\n",
    "val_loader = DataLoader(val_dataset, batch_size=32, shuffle=False)\n",
    "test_loader = DataLoader(test_dataset, batch_size=32, shuffle=False)\n"
   ]
  },
  {
   "cell_type": "code",
   "execution_count": 7,
   "metadata": {},
   "outputs": [],
   "source": [
    "class EfficientNetB0Classifier(nn.Module):\n",
    "    def __init__(self, num_classes):\n",
    "        super(EfficientNetB0Classifier, self).__init__()\n",
    "        self.base_model = torchvision.models.efficientnet_b0(pretrained=True)\n",
    "        self.base_model.classifier[1] = nn.Linear(self.base_model.classifier[1].in_features, num_classes)\n",
    "        self.base_model.classifier.add_module('dropout', nn.Dropout(0.2))  # Added dropout\n",
    "\n",
    "    def forward(self, x):\n",
    "        return self.base_model(x)"
   ]
  },
  {
   "cell_type": "code",
   "execution_count": 9,
   "metadata": {},
   "outputs": [
    {
     "name": "stderr",
     "output_type": "stream",
     "text": [
      "d:\\MED_LEAF_ID\\base\\Lib\\site-packages\\torchvision\\models\\_utils.py:208: UserWarning: The parameter 'pretrained' is deprecated since 0.13 and may be removed in the future, please use 'weights' instead.\n",
      "  warnings.warn(\n",
      "d:\\MED_LEAF_ID\\base\\Lib\\site-packages\\torchvision\\models\\_utils.py:223: UserWarning: Arguments other than a weight enum or `None` for 'weights' are deprecated since 0.13 and may be removed in the future. The current behavior is equivalent to passing `weights=EfficientNet_B0_Weights.IMAGENET1K_V1`. You can also use `weights=EfficientNet_B0_Weights.DEFAULT` to get the most up-to-date weights.\n",
      "  warnings.warn(msg)\n"
     ]
    },
    {
     "name": "stdout",
     "output_type": "stream",
     "text": [
      "cuda\n"
     ]
    }
   ],
   "source": [
    "num_classes = len(train_data.classes)\n",
    "model = EfficientNetB0Classifier(num_classes=num_classes)\n",
    "\n",
    "device = torch.device(\"cuda\" if torch.cuda.is_available() else \"cpu\")\n",
    "model = model.to(device)\n",
    "print(device)\n",
    "criterion = nn.CrossEntropyLoss()\n",
    "\n",
    "y_train = [label for _, label in train_dataset]\n",
    "class_weights = compute_class_weight('balanced', classes=np.unique(y_train), y=y_train)\n",
    "class_weights = torch.tensor(class_weights, dtype=torch.float32).to(device)\n",
    "\n",
    "optimizer = optim.Adam(model.parameters(), lr=0.001)"
   ]
  },
  {
   "cell_type": "code",
   "execution_count": 12,
   "metadata": {},
   "outputs": [],
   "source": [
    "def train(model, train_loader, val_loader, optimizer, criterion, num_epochs=30, patience=5):\n",
    "    best_val_loss = float('inf')\n",
    "    epochs_no_improve = 0\n",
    "    best_model_wts = model.state_dict()\n",
    "    \n",
    "    train_losses, val_losses, train_accuracies, val_accuracies = [], [], [], []\n",
    "\n",
    "    for epoch in range(num_epochs):\n",
    "        model.train()\n",
    "        running_loss = 0.0\n",
    "        correct_preds = 0\n",
    "        total_preds = 0\n",
    "\n",
    "        for inputs, labels in tqdm(train_loader, desc=f\"Training Epoch {epoch+1}/{num_epochs}\"):\n",
    "            inputs, labels = inputs.to(device), labels.to(device)\n",
    "\n",
    "            optimizer.zero_grad()\n",
    "            outputs = model(inputs)\n",
    "            loss = criterion(outputs, labels)\n",
    "            loss.backward()\n",
    "            optimizer.step()\n",
    "\n",
    "            running_loss += loss.item() * inputs.size(0)\n",
    "            _, preds = torch.max(outputs, 1)\n",
    "            correct_preds += torch.sum(preds == labels.data)\n",
    "            total_preds += labels.size(0)\n",
    "\n",
    "        epoch_loss = running_loss / len(train_loader.dataset)\n",
    "        epoch_acc = correct_preds.double() / total_preds\n",
    "\n",
    "        # Validation\n",
    "        model.eval()\n",
    "        val_loss = 0.0\n",
    "        correct_preds = 0\n",
    "        total_preds = 0\n",
    "\n",
    "        with torch.no_grad():\n",
    "            for inputs, labels in val_loader:\n",
    "                inputs, labels = inputs.to(device), labels.to(device)\n",
    "                outputs = model(inputs)\n",
    "                loss = criterion(outputs, labels)\n",
    "                val_loss += loss.item() * inputs.size(0)\n",
    "                _, preds = torch.max(outputs, 1)\n",
    "                correct_preds += torch.sum(preds == labels.data)\n",
    "                total_preds += labels.size(0)\n",
    "\n",
    "        val_loss /= len(val_loader.dataset)\n",
    "        val_acc = correct_preds.double() / total_preds\n",
    "\n",
    "        # Check for early stopping\n",
    "        if val_loss < best_val_loss:\n",
    "            best_val_loss = val_loss\n",
    "            best_model_wts = model.state_dict()\n",
    "            epochs_no_improve = 0\n",
    "        else:\n",
    "            epochs_no_improve += 1\n",
    "\n",
    "        if epochs_no_improve >= patience:\n",
    "            print(\"Early stopping triggered\")\n",
    "            break\n",
    "\n",
    "        # Save losses and accuracies for plotting\n",
    "        train_losses.append(epoch_loss)\n",
    "        val_losses.append(val_loss)\n",
    "        train_accuracies.append(epoch_acc)\n",
    "        val_accuracies.append(val_acc)\n",
    "\n",
    "        print(f\"Epoch {epoch+1}/{num_epochs} => Train Loss: {epoch_loss:.4f}, Train Accuracy: {epoch_acc:.4f}, \"\n",
    "              f\"Val Loss: {val_loss:.4f}, Val Accuracy: {val_acc:.4f}\")\n",
    "\n",
    "    # Load best model weights\n",
    "    model.load_state_dict(best_model_wts)\n",
    "    return model, train_losses, val_losses, train_accuracies, val_accuracies\n"
   ]
  },
  {
   "cell_type": "code",
   "execution_count": null,
   "metadata": {},
   "outputs": [
    {
     "name": "stderr",
     "output_type": "stream",
     "text": [
      "Training Epoch 1/30: 100%|██████████| 302/302 [02:33<00:00,  1.96it/s]\n"
     ]
    },
    {
     "name": "stdout",
     "output_type": "stream",
     "text": [
      "Epoch 1/30 => Train Loss: 4.3637, Train Accuracy: 0.0232, Val Loss: 4.3147, Val Accuracy: 0.0193\n"
     ]
    },
    {
     "name": "stderr",
     "output_type": "stream",
     "text": [
      "Training Epoch 2/30: 100%|██████████| 302/302 [02:37<00:00,  1.91it/s]\n"
     ]
    },
    {
     "name": "stdout",
     "output_type": "stream",
     "text": [
      "Epoch 2/30 => Train Loss: 4.2713, Train Accuracy: 0.0340, Val Loss: 4.2287, Val Accuracy: 0.0372\n"
     ]
    },
    {
     "name": "stderr",
     "output_type": "stream",
     "text": [
      "Training Epoch 3/30:  11%|█         | 32/302 [00:16<02:11,  2.05it/s]"
     ]
    }
   ],
   "source": [
    "model, train_losses, val_losses, train_accuracies, val_accuracies = train(\n",
    "    model, train_loader, val_loader, optimizer, criterion, num_epochs=30, patience=5\n",
    ")\n"
   ]
  },
  {
   "cell_type": "code",
   "execution_count": 12,
   "metadata": {},
   "outputs": [],
   "source": [
    "model.compile(\n",
    "    optimizer=optimizers.Adam(learning_rate=0.001),\n",
    "    loss=\"sparse_categorical_crossentropy\",\n",
    "    metrics=[\"accuracy\"]\n",
    ")"
   ]
  },
  {
   "cell_type": "code",
   "execution_count": null,
   "metadata": {},
   "outputs": [
    {
     "name": "stdout",
     "output_type": "stream",
     "text": [
      "Epoch 1/50\n",
      "\u001b[1m409/409\u001b[0m \u001b[32m━━━━━━━━━━━━━━━━━━━━\u001b[0m\u001b[37m\u001b[0m \u001b[1m206s\u001b[0m 483ms/step - accuracy: 0.2823 - loss: 3.2409 - val_accuracy: 0.1394 - val_loss: 3.8737\n",
      "Epoch 2/50\n",
      "\u001b[1m409/409\u001b[0m \u001b[32m━━━━━━━━━━━━━━━━━━━━\u001b[0m\u001b[37m\u001b[0m \u001b[1m236s\u001b[0m 577ms/step - accuracy: 0.6513 - loss: 1.4725 - val_accuracy: 0.3333 - val_loss: 2.5155\n",
      "Epoch 3/50\n",
      "\u001b[1m409/409\u001b[0m \u001b[32m━━━━━━━━━━━━━━━━━━━━\u001b[0m\u001b[37m\u001b[0m \u001b[1m252s\u001b[0m 617ms/step - accuracy: 0.7412 - loss: 1.0896 - val_accuracy: 0.4249 - val_loss: 2.0485\n",
      "Epoch 4/50\n",
      "\u001b[1m409/409\u001b[0m \u001b[32m━━━━━━━━━━━━━━━━━━━━\u001b[0m\u001b[37m\u001b[0m \u001b[1m272s\u001b[0m 664ms/step - accuracy: 0.7895 - loss: 0.8717 - val_accuracy: 0.4838 - val_loss: 1.8021\n",
      "Epoch 5/50\n",
      "\u001b[1m409/409\u001b[0m \u001b[32m━━━━━━━━━━━━━━━━━━━━\u001b[0m\u001b[37m\u001b[0m \u001b[1m261s\u001b[0m 638ms/step - accuracy: 0.8146 - loss: 0.7531 - val_accuracy: 0.5550 - val_loss: 1.5519\n",
      "Epoch 6/50\n",
      "\u001b[1m409/409\u001b[0m \u001b[32m━━━━━━━━━━━━━━━━━━━━\u001b[0m\u001b[37m\u001b[0m \u001b[1m267s\u001b[0m 653ms/step - accuracy: 0.8355 - loss: 0.6679 - val_accuracy: 0.5851 - val_loss: 1.4762\n",
      "Epoch 7/50\n",
      "\u001b[1m409/409\u001b[0m \u001b[32m━━━━━━━━━━━━━━━━━━━━\u001b[0m\u001b[37m\u001b[0m \u001b[1m263s\u001b[0m 644ms/step - accuracy: 0.8481 - loss: 0.6084 - val_accuracy: 0.6110 - val_loss: 1.3624\n",
      "Epoch 8/50\n",
      "\u001b[1m409/409\u001b[0m \u001b[32m━━━━━━━━━━━━━━━━━━━━\u001b[0m\u001b[37m\u001b[0m \u001b[1m259s\u001b[0m 633ms/step - accuracy: 0.8565 - loss: 0.5698 - val_accuracy: 0.6185 - val_loss: 1.3191\n",
      "Epoch 9/50\n",
      "\u001b[1m409/409\u001b[0m \u001b[32m━━━━━━━━━━━━━━━━━━━━\u001b[0m\u001b[37m\u001b[0m \u001b[1m284s\u001b[0m 695ms/step - accuracy: 0.8666 - loss: 0.5211 - val_accuracy: 0.6390 - val_loss: 1.2165\n",
      "Epoch 10/50\n",
      "\u001b[1m409/409\u001b[0m \u001b[32m━━━━━━━━━━━━━━━━━━━━\u001b[0m\u001b[37m\u001b[0m \u001b[1m277s\u001b[0m 677ms/step - accuracy: 0.8787 - loss: 0.4819 - val_accuracy: 0.6555 - val_loss: 1.1480\n",
      "Epoch 11/50\n",
      "\u001b[1m409/409\u001b[0m \u001b[32m━━━━━━━━━━━━━━━━━━━━\u001b[0m\u001b[37m\u001b[0m \u001b[1m265s\u001b[0m 649ms/step - accuracy: 0.8807 - loss: 0.4517 - val_accuracy: 0.6667 - val_loss: 1.1059\n",
      "Epoch 12/50\n",
      "\u001b[1m409/409\u001b[0m \u001b[32m━━━━━━━━━━━━━━━━━━━━\u001b[0m\u001b[37m\u001b[0m \u001b[1m253s\u001b[0m 618ms/step - accuracy: 0.8912 - loss: 0.4154 - val_accuracy: 0.6832 - val_loss: 1.0556\n",
      "Epoch 13/50\n",
      "\u001b[1m409/409\u001b[0m \u001b[32m━━━━━━━━━━━━━━━━━━━━\u001b[0m\u001b[37m\u001b[0m \u001b[1m250s\u001b[0m 610ms/step - accuracy: 0.8897 - loss: 0.4094 - val_accuracy: 0.6825 - val_loss: 1.0586\n",
      "Epoch 14/50\n",
      "\u001b[1m409/409\u001b[0m \u001b[32m━━━━━━━━━━━━━━━━━━━━\u001b[0m\u001b[37m\u001b[0m \u001b[1m248s\u001b[0m 606ms/step - accuracy: 0.8888 - loss: 0.4031 - val_accuracy: 0.7134 - val_loss: 0.9600\n",
      "Epoch 15/50\n",
      "\u001b[1m409/409\u001b[0m \u001b[32m━━━━━━━━━━━━━━━━━━━━\u001b[0m\u001b[37m\u001b[0m \u001b[1m249s\u001b[0m 609ms/step - accuracy: 0.8956 - loss: 0.3843 - val_accuracy: 0.7069 - val_loss: 0.9758\n",
      "Epoch 16/50\n",
      "\u001b[1m409/409\u001b[0m \u001b[32m━━━━━━━━━━━━━━━━━━━━\u001b[0m\u001b[37m\u001b[0m \u001b[1m250s\u001b[0m 611ms/step - accuracy: 0.9052 - loss: 0.3684 - val_accuracy: 0.7148 - val_loss: 0.9843\n",
      "Epoch 17/50\n",
      "\u001b[1m409/409\u001b[0m \u001b[32m━━━━━━━━━━━━━━━━━━━━\u001b[0m\u001b[37m\u001b[0m \u001b[1m244s\u001b[0m 597ms/step - accuracy: 0.9098 - loss: 0.3500 - val_accuracy: 0.7166 - val_loss: 0.9880\n",
      "Epoch 18/50\n",
      "\u001b[1m409/409\u001b[0m \u001b[32m━━━━━━━━━━━━━━━━━━━━\u001b[0m\u001b[37m\u001b[0m \u001b[1m245s\u001b[0m 599ms/step - accuracy: 0.9057 - loss: 0.3429 - val_accuracy: 0.7238 - val_loss: 0.9338\n",
      "Epoch 19/50\n",
      "\u001b[1m409/409\u001b[0m \u001b[32m━━━━━━━━━━━━━━━━━━━━\u001b[0m\u001b[37m\u001b[0m \u001b[1m248s\u001b[0m 606ms/step - accuracy: 0.9101 - loss: 0.3376 - val_accuracy: 0.7295 - val_loss: 0.9218\n",
      "Epoch 20/50\n",
      "\u001b[1m409/409\u001b[0m \u001b[32m━━━━━━━━━━━━━━━━━━━━\u001b[0m\u001b[37m\u001b[0m \u001b[1m248s\u001b[0m 606ms/step - accuracy: 0.9086 - loss: 0.3263 - val_accuracy: 0.7331 - val_loss: 0.8965\n",
      "Epoch 21/50\n",
      "\u001b[1m409/409\u001b[0m \u001b[32m━━━━━━━━━━━━━━━━━━━━\u001b[0m\u001b[37m\u001b[0m \u001b[1m243s\u001b[0m 594ms/step - accuracy: 0.9107 - loss: 0.3162 - val_accuracy: 0.7306 - val_loss: 0.8840\n",
      "Epoch 22/50\n",
      "\u001b[1m409/409\u001b[0m \u001b[32m━━━━━━━━━━━━━━━━━━━━\u001b[0m\u001b[37m\u001b[0m \u001b[1m262s\u001b[0m 640ms/step - accuracy: 0.9164 - loss: 0.3005 - val_accuracy: 0.7468 - val_loss: 0.8549\n",
      "Epoch 23/50\n",
      "\u001b[1m409/409\u001b[0m \u001b[32m━━━━━━━━━━━━━━━━━━━━\u001b[0m\u001b[37m\u001b[0m \u001b[1m279s\u001b[0m 683ms/step - accuracy: 0.9124 - loss: 0.3109 - val_accuracy: 0.7317 - val_loss: 0.8966\n",
      "Epoch 24/50\n",
      "\u001b[1m409/409\u001b[0m \u001b[32m━━━━━━━━━━━━━━━━━━━━\u001b[0m\u001b[37m\u001b[0m \u001b[1m284s\u001b[0m 695ms/step - accuracy: 0.9187 - loss: 0.2949 - val_accuracy: 0.7478 - val_loss: 0.8734\n",
      "Epoch 25/50\n",
      "\u001b[1m409/409\u001b[0m \u001b[32m━━━━━━━━━━━━━━━━━━━━\u001b[0m\u001b[37m\u001b[0m \u001b[1m276s\u001b[0m 676ms/step - accuracy: 0.9128 - loss: 0.3062 - val_accuracy: 0.7410 - val_loss: 0.8655\n",
      "Epoch 26/50\n",
      "\u001b[1m409/409\u001b[0m \u001b[32m━━━━━━━━━━━━━━━━━━━━\u001b[0m\u001b[37m\u001b[0m \u001b[1m268s\u001b[0m 655ms/step - accuracy: 0.9147 - loss: 0.2974 - val_accuracy: 0.7496 - val_loss: 0.8211\n",
      "Epoch 27/50\n",
      "\u001b[1m409/409\u001b[0m \u001b[32m━━━━━━━━━━━━━━━━━━━━\u001b[0m\u001b[37m\u001b[0m \u001b[1m256s\u001b[0m 626ms/step - accuracy: 0.9221 - loss: 0.2880 - val_accuracy: 0.7356 - val_loss: 0.8466\n",
      "Epoch 28/50\n",
      "\u001b[1m409/409\u001b[0m \u001b[32m━━━━━━━━━━━━━━━━━━━━\u001b[0m\u001b[37m\u001b[0m \u001b[1m253s\u001b[0m 617ms/step - accuracy: 0.9197 - loss: 0.2777 - val_accuracy: 0.7385 - val_loss: 0.8952\n",
      "Epoch 29/50\n",
      "\u001b[1m409/409\u001b[0m \u001b[32m━━━━━━━━━━━━━━━━━━━━\u001b[0m\u001b[37m\u001b[0m \u001b[1m250s\u001b[0m 613ms/step - accuracy: 0.9218 - loss: 0.2731 - val_accuracy: 0.7604 - val_loss: 0.7793\n",
      "Epoch 30/50\n",
      "\u001b[1m409/409\u001b[0m \u001b[32m━━━━━━━━━━━━━━━━━━━━\u001b[0m\u001b[37m\u001b[0m \u001b[1m247s\u001b[0m 603ms/step - accuracy: 0.9171 - loss: 0.2721 - val_accuracy: 0.7586 - val_loss: 0.8052\n",
      "Epoch 31/50\n",
      "\u001b[1m409/409\u001b[0m \u001b[32m━━━━━━━━━━━━━━━━━━━━\u001b[0m\u001b[37m\u001b[0m \u001b[1m240s\u001b[0m 586ms/step - accuracy: 0.9260 - loss: 0.2534 - val_accuracy: 0.7665 - val_loss: 0.7844\n",
      "Epoch 32/50\n",
      "\u001b[1m409/409\u001b[0m \u001b[32m━━━━━━━━━━━━━━━━━━━━\u001b[0m\u001b[37m\u001b[0m \u001b[1m241s\u001b[0m 589ms/step - accuracy: 0.9229 - loss: 0.2638 - val_accuracy: 0.7482 - val_loss: 0.8491\n",
      "Epoch 33/50\n",
      "\u001b[1m409/409\u001b[0m \u001b[32m━━━━━━━━━━━━━━━━━━━━\u001b[0m\u001b[37m\u001b[0m \u001b[1m244s\u001b[0m 597ms/step - accuracy: 0.9256 - loss: 0.2645 - val_accuracy: 0.7647 - val_loss: 0.7787\n",
      "Epoch 34/50\n",
      "\u001b[1m409/409\u001b[0m \u001b[32m━━━━━━━━━━━━━━━━━━━━\u001b[0m\u001b[37m\u001b[0m \u001b[1m243s\u001b[0m 594ms/step - accuracy: 0.9278 - loss: 0.2537 - val_accuracy: 0.7780 - val_loss: 0.7411\n",
      "Epoch 35/50\n",
      "\u001b[1m409/409\u001b[0m \u001b[32m━━━━━━━━━━━━━━━━━━━━\u001b[0m\u001b[37m\u001b[0m \u001b[1m240s\u001b[0m 586ms/step - accuracy: 0.9239 - loss: 0.2592 - val_accuracy: 0.7694 - val_loss: 0.7888\n",
      "Epoch 36/50\n",
      "\u001b[1m409/409\u001b[0m \u001b[32m━━━━━━━━━━━━━━━━━━━━\u001b[0m\u001b[37m\u001b[0m \u001b[1m238s\u001b[0m 582ms/step - accuracy: 0.9300 - loss: 0.2340 - val_accuracy: 0.7636 - val_loss: 0.7905\n",
      "Epoch 37/50\n",
      "\u001b[1m409/409\u001b[0m \u001b[32m━━━━━━━━━━━━━━━━━━━━\u001b[0m\u001b[37m\u001b[0m \u001b[1m238s\u001b[0m 581ms/step - accuracy: 0.9205 - loss: 0.2625 - val_accuracy: 0.7475 - val_loss: 0.8737\n",
      "Epoch 38/50\n",
      "\u001b[1m409/409\u001b[0m \u001b[32m━━━━━━━━━━━━━━━━━━━━\u001b[0m\u001b[37m\u001b[0m \u001b[1m261s\u001b[0m 638ms/step - accuracy: 0.9289 - loss: 0.2421 - val_accuracy: 0.7680 - val_loss: 0.7789\n",
      "Epoch 39/50\n",
      "\u001b[1m409/409\u001b[0m \u001b[32m━━━━━━━━━━━━━━━━━━━━\u001b[0m\u001b[37m\u001b[0m \u001b[1m247s\u001b[0m 605ms/step - accuracy: 0.9239 - loss: 0.2527 - val_accuracy: 0.7708 - val_loss: 0.7924\n"
     ]
    }
   ],
   "source": [
    "\n",
    "model.eval()\n",
    "correct_preds = 0\n",
    "total_preds = 0\n",
    "with torch.no_grad():\n",
    "    for inputs, labels in test_loader:\n",
    "        inputs, labels = inputs.to(device), labels.to(device)\n",
    "        outputs = model(inputs)\n",
    "        _, preds = torch.max(outputs, 1)\n",
    "        correct_preds += torch.sum(preds == labels.data)\n",
    "        total_preds += labels.size(0)\n",
    "\n",
    "test_accuracy = correct_preds.double() / total_preds\n",
    "print(f\"Test Accuracy: {test_accuracy:.4f}\")\n",
    "\n",
    "\n",
    "torch.save(model.state_dict(), \"efficientnetb0_leaf_model.pth\")\n",
    "\n",
    "\n",
    "epochs = range(1, len(train_losses) + 1)\n",
    "plt.figure(figsize=(12, 6))\n",
    "\n",
    "plt.subplot(1, 2, 1)\n",
    "plt.plot(epochs, train_losses, label='Train Loss')\n",
    "plt.plot(epochs, val_losses, label='Validation Loss')\n",
    "plt.title('Loss over Epochs')\n",
    "plt.xlabel('Epoch')\n",
    "plt.ylabel('Loss')\n",
    "plt.legend()\n",
    "\n",
    "plt.subplot(1, 2, 2)\n",
    "plt.plot(epochs, train_accuracies, label='Train Accuracy')\n",
    "plt.plot(epochs, val_accuracies, label='Validation Accuracy')\n",
    "plt.title('Accuracy over Epochs')\n",
    "plt.xlabel('Epoch')\n",
    "plt.ylabel('Accuracy')\n",
    "plt.legend()\n",
    "\n",
    "plt.show()\n"
   ]
  },
  {
   "cell_type": "code",
   "execution_count": null,
   "metadata": {},
   "outputs": [
    {
     "name": "stdout",
     "output_type": "stream",
     "text": [
      "\u001b[1m87/87\u001b[0m \u001b[32m━━━━━━━━━━━━━━━━━━━━\u001b[0m\u001b[37m\u001b[0m \u001b[1m39s\u001b[0m 403ms/step - accuracy: 0.7649 - loss: 0.7847\n",
      "\n",
      "Test Loss: 0.7587890028953552\n",
      "Test Accuracy: 0.7768535017967224\n"
     ]
    }
   ],
   "source": [
    "test_labels = []\n",
    "test_preds = []\n",
    "with torch.no_grad():\n",
    "    for inputs, labels in test_loader:\n",
    "        inputs, labels = inputs.to(device), labels.to(device)\n",
    "        outputs = model(inputs)\n",
    "        _, preds = torch.max(outputs, 1)\n",
    "        test_labels.extend(labels.cpu().numpy())\n",
    "        test_preds.extend(preds.cpu().numpy())\n",
    "\n",
    "print(classification_report(test_labels, test_preds, target_names=train_data.classes))\n",
    "print(\"Confusion Matrix:\\n\", confusion_matrix(test_labels, test_preds))\n"
   ]
  }
 ],
 "metadata": {
  "kernelspec": {
   "display_name": "base",
   "language": "python",
   "name": "python3"
  },
  "language_info": {
   "codemirror_mode": {
    "name": "ipython",
    "version": 3
   },
   "file_extension": ".py",
   "mimetype": "text/x-python",
   "name": "python",
   "nbconvert_exporter": "python",
   "pygments_lexer": "ipython3",
   "version": "3.11.8"
  }
 },
 "nbformat": 4,
 "nbformat_minor": 2
}
