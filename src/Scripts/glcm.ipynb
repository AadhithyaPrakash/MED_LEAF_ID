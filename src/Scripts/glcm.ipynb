{
 "cells": [
  {
   "cell_type": "code",
   "execution_count": null,
   "metadata": {
    "vscode": {
     "languageId": "plaintext"
    }
   },
   "outputs": [],
   "source": [
    "import os\n",
    "import cv2\n",
    "import numpy as np\n",
    "import pandas as pd\n",
    "from skimage.feature import graycomatrix, graycoprops"
   ]
  },
  {
   "cell_type": "code",
   "execution_count": null,
   "metadata": {
    "vscode": {
     "languageId": "plaintext"
    }
   },
   "outputs": [],
   "source": [
    "preprocessed_glcm_path = r\"D:\\MEDLF\\DATA\\Preprocessed_for_GLCM\"\n",
    "glcm_features_csv = r\"D:\\MEDLF\\DATA\\GLCM_Features.csv\""
   ]
  },
  {
   "cell_type": "code",
   "execution_count": null,
   "metadata": {
    "vscode": {
     "languageId": "plaintext"
    }
   },
   "outputs": [],
   "source": [
    "DISTANCES = [1, 2, 3]  # Distances for GLCM computation\n",
    "ANGLES = [0, np.pi / 4, np.pi / 2, 3 * np.pi / 4]  # Angles for GLCM computation\n",
    "GLCM_PROPS = [\"contrast\", \"dissimilarity\", \"homogeneity\", \"energy\", \"correlation\", \"ASM\"]\n"
   ]
  },
  {
   "cell_type": "code",
   "execution_count": null,
   "metadata": {
    "vscode": {
     "languageId": "plaintext"
    }
   },
   "outputs": [],
   "source": [
    "def compute_glcm_features(image):\n",
    "    features = {}\n",
    "    # Compute GLCM\n",
    "    glcm = graycomatrix(\n",
    "        image, distances=DISTANCES, angles=ANGLES, levels=256, symmetric=True, normed=True\n",
    "    )\n",
    "    # Extract properties\n",
    "    for prop in GLCM_PROPS:\n",
    "        prop_values = graycoprops(glcm, prop)\n",
    "        # Average values across all distances and angles\n",
    "        features[prop] = np.mean(prop_values)\n",
    "    return features\n"
   ]
  },
  {
   "cell_type": "code",
   "execution_count": null,
   "metadata": {
    "vscode": {
     "languageId": "plaintext"
    }
   },
   "outputs": [],
   "source": [
    "def process_class_images(class_path, class_name, source_label):\n",
    "    data = []\n",
    "    for image_file in os.listdir(class_path):\n",
    "        image_path = os.path.join(class_path, image_file)\n",
    "        image = cv2.imread(image_path, cv2.IMREAD_GRAYSCALE)\n",
    "        if image is not None:\n",
    "            features = compute_glcm_features(image)\n",
    "            features[\"class\"] = class_name\n",
    "            features[\"image_name\"] = image_file\n",
    "            features[\"source\"] = source_label  # Indicate \"Augmented\" or \"Original\"\n",
    "            data.append(features)\n",
    "        else:\n",
    "            print(f\"Error loading image: {image_path}\")\n",
    "    return data\n"
   ]
  },
  {
   "cell_type": "code",
   "execution_count": null,
   "metadata": {
    "vscode": {
     "languageId": "plaintext"
    }
   },
   "outputs": [],
   "source": [
    "def extract_glcm_features(dataset_path):\n",
    "    all_data = []\n",
    "    for folder_name in [\"Augmented\", \"Original\"]:\n",
    "        folder_path = os.path.join(dataset_path, folder_name)\n",
    "        if not os.path.exists(folder_path):\n",
    "            print(f\"Folder not found: {folder_path}\")\n",
    "            continue\n",
    "        print(f\"Processing folder: {folder_name}\")\n",
    "        for class_folder in os.listdir(folder_path):\n",
    "            class_path = os.path.join(folder_path, class_folder)\n",
    "            if os.path.isdir(class_path):\n",
    "                print(f\"Processing class: {class_folder}\")\n",
    "                class_data = process_class_images(class_path, class_folder, folder_name)\n",
    "                all_data.extend(class_data)\n",
    "    # Convert to DataFrame\n",
    "    df = pd.DataFrame(all_data)\n",
    "    return df\n"
   ]
  },
  {
   "cell_type": "code",
   "execution_count": null,
   "metadata": {
    "vscode": {
     "languageId": "plaintext"
    }
   },
   "outputs": [],
   "source": [
    "if __name__ == \"__main__\":\n",
    "    print(\"Extracting GLCM features from preprocessed data...\")\n",
    "    glcm_features_df = extract_glcm_features(preprocessed_glcm_path)\n",
    "    print(f\"Saving GLCM features to {glcm_features_csv}...\")\n",
    "    glcm_features_df.to_csv(glcm_features_csv, index=False)\n",
    "    print(\"GLCM feature extraction complete!\")"
   ]
  }
 ],
 "metadata": {
  "language_info": {
   "name": "python"
  }
 },
 "nbformat": 4,
 "nbformat_minor": 2
}
