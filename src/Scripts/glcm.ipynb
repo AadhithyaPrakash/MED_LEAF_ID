{
 "cells": [
  {
   "cell_type": "code",
   "execution_count": 1,
   "metadata": {},
   "outputs": [],
   "source": [
    "import os\n",
    "import cv2\n",
    "import numpy as np\n",
    "import pandas as pd\n",
    "from skimage.feature import graycomatrix, graycoprops"
   ]
  },
  {
   "cell_type": "code",
   "execution_count": 2,
   "metadata": {},
   "outputs": [],
   "source": [
    "input_dir = r'D:\\MED_LEAF_ID\\data\\preprocessed_glcm'\n",
    "distances = [1, 2, 3, 4, 5]  # Example distances\n",
    "angles = [0, np.pi/4, np.pi/2, 3*np.pi/4]  # Example angles in radians\n",
    "allowed_extensions = {'.jpg', '.png', '.jpeg'}\n",
    "features_list = []"
   ]
  },
  {
   "cell_type": "code",
   "execution_count": 3,
   "metadata": {},
   "outputs": [],
   "source": [
    "# Walk through all directories and files\n",
    "for root, dirs, files in os.walk(input_dir):\n",
    "    for filename in files:\n",
    "        if os.path.splitext(filename)[1].lower() in allowed_extensions:\n",
    "            img_path = os.path.join(root, filename)\n",
    "\n",
    "            # Extract class name from the folder structure (parent directory)\n",
    "            class_name = os.path.basename(root)\n",
    "\n",
    "            # Read image as grayscale\n",
    "            image = cv2.imread(img_path, cv2.IMREAD_GRAYSCALE)\n",
    "            if image is None:\n",
    "                print(f\"❌ Skipping unreadable image: {img_path}\")\n",
    "                continue\n",
    "\n",
    "            # Normalize the image to range [0, 255]\n",
    "            image = cv2.normalize(image, None, 0, 255, cv2.NORM_MINMAX)\n",
    "\n",
    "            # Extract GLCM features for each combination of distance and angle\n",
    "            glcm_features = []\n",
    "\n",
    "            for d in distances:\n",
    "                for angle in angles:\n",
    "                    # Compute GLCM matrix\n",
    "                    glcm = graycomatrix(image, distances=[d], angles=[angle], symmetric=True, normed=True)\n",
    "\n",
    "                    # Extract GLCM properties\n",
    "                    contrast = graycoprops(glcm, 'contrast')[0, 0]\n",
    "                    energy = graycoprops(glcm, 'energy')[0, 0]\n",
    "                    homogeneity = graycoprops(glcm, 'homogeneity')[0, 0]\n",
    "                    correlation = graycoprops(glcm, 'correlation')[0, 0]\n",
    "                    dissimilarity = graycoprops(glcm, 'dissimilarity')[0, 0]\n",
    "                    asm = graycoprops(glcm, 'ASM')[0, 0]\n",
    "                    entropy = -np.sum(glcm * np.log2(glcm + np.finfo(float).eps))\n",
    "\n",
    "                    # Append features for this (d, angle) pair\n",
    "                    glcm_features.extend([contrast, energy, homogeneity, correlation, dissimilarity, asm, entropy])\n",
    "\n",
    "            # Add the class name and features of this image to the list\n",
    "            features_list.append([class_name, filename] + glcm_features)\n"
   ]
  },
  {
   "cell_type": "code",
   "execution_count": 6,
   "metadata": {},
   "outputs": [],
   "source": [
    "# Define the columns for the DataFrame\n",
    "columns = ['Class_Name', 'Image_Name']  # First two columns: class name and image name\n",
    "for d in distances:\n",
    "    for angle in angles:\n",
    "        columns += [\n",
    "            f'contrast_d{d}_a{angle}',\n",
    "            f'energy_d{d}_a{angle}',\n",
    "            f'homogeneity_d{d}_a{angle}',\n",
    "            f'correlation_d{d}_a{angle}',\n",
    "            f'dissimilarity_d{d}_a{angle}',\n",
    "            f'asm_d{d}_a{angle}',\n",
    "            f'entropy_d{d}_a{angle}'\n",
    "        ]\n",
    "\n",
    "# Create a DataFrame from the list of features\n",
    "df = pd.DataFrame(features_list, columns=columns)\n"
   ]
  },
  {
   "cell_type": "code",
   "execution_count": 7,
   "metadata": {},
   "outputs": [
    {
     "name": "stdout",
     "output_type": "stream",
     "text": [
      "Features extracted and saved to D:\\MED_LEAF_ID\\data\\glcm_features.csv\n"
     ]
    }
   ],
   "source": [
    "# Save the DataFrame to a CSV file\n",
    "output_file = r'D:\\MED_LEAF_ID\\data\\glcm_features.csv'\n",
    "df.to_csv(output_file, index=False)\n",
    "\n",
    "print(f\"Features extracted and saved to {output_file}\")"
   ]
  }
 ],
 "metadata": {
  "kernelspec": {
   "display_name": "base",
   "language": "python",
   "name": "python3"
  },
  "language_info": {
   "codemirror_mode": {
    "name": "ipython",
    "version": 3
   },
   "file_extension": ".py",
   "mimetype": "text/x-python",
   "name": "python",
   "nbconvert_exporter": "python",
   "pygments_lexer": "ipython3",
   "version": "3.11.8"
  }
 },
 "nbformat": 4,
 "nbformat_minor": 2
}
